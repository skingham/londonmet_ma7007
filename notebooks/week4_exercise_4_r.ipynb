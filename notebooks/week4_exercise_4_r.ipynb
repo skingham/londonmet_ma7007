{
 "cells": [
  {
   "cell_type": "markdown",
   "id": "39911465-0d4e-4702-97fb-158716b45c94",
   "metadata": {},
   "source": [
    "# Exercise 4.pdf\n",
    "\n",
    "The R code provided performs several tasks related to statistical modeling and analysis, particularly focusing on the use of generalized additive models for location, scale, and shape (GAMLSS) and truncated distributions. Here's a breakdown of its main components and actions:\n",
    "\n",
    "1. **Installation and Loading of Packages**: The script begins by attempting to install the `gamlss.inf` package, which is likely a typo or a custom function not standard in R, as the correct function to install packages is `install.packages()`. Then, it defines new family distributions and truncated distributions using functions like `gen.Family()`, `gen.Inf0to1()`, and `gen.trun()`.\n",
    "\n",
    "2. **Setting Seed for Reproducibility**: `set.seed(10)` ensures that any random operations can be replicated in future runs.\n",
    "\n",
    "3. **Loading the `gamlss.tr` Library and Data**: It loads the `gamlss.tr` library, which is used for fitting truncated and censored distributions in the GAMLSS framework. It then loads the `tensile` dataset, which is likely used for modeling.\n",
    "\n",
    "4. **Generation of Truncated Distributions**: The script generates truncated versions of various distributions (`GA`, `LOGNO`, `TF`) with specified parameters.\n",
    "\n",
    "5. **Fitting Distributions to Data**: It attempts to fit different truncated distributions to the `tensile` dataset using a custom function `fitDist()`, which is not standard in R and is presumably defined elsewhere or is part of a loaded package.\n",
    "\n",
    "6. **Creating and Modeling Inflated Distributions**: The script generates data from an inflated distribution (at zero for `logitSST` and at one for `BEINF1`) and fits GAMLSS models to this data. This part includes examples of fitting distributions with inflation at specific points (0 or 1), showcasing the flexibility of GAMLSS in handling complex distributional forms.\n",
    "\n",
    "7. **Model Comparisons and Checks**: It compares the deviances of different model fits to check for consistency or equivalence, using `stopifnot()` to assert that certain conditions are true. This is a method to ensure that the models are performing as expected.\n",
    "\n",
    "8. **Additional Data Analysis with Another Dataset (`glass`)**: The script performs similar actions as above but with a different dataset, `glass`, focusing on fitting distributions and analyzing the `strength` variable. It includes generating a truncated distribution, fitting a distribution, and visualizing the distribution of `strength` using a histogram.\n",
    "\n",
    "Overall, the script showcases advanced usage of the GAMLSS framework for modeling complex data distributions, including truncated and inflated-at-specific-points distributions. It performs data fitting, model checking, and visualization tasks, although it assumes the presence of certain custom functions or packages (`fitDist()`, `gamlss.inf`, etc.) that are not standard in R's base or commonly used packages."
   ]
  },
  {
   "cell_type": "code",
   "execution_count": 9,
   "id": "4e99bbac-7f05-45dd-b407-0bf91e47d97a",
   "metadata": {},
   "outputs": [],
   "source": [
    "# install.packages('gamlss.inf')\n",
    "library(gamlss.inf)"
   ]
  },
  {
   "cell_type": "code",
   "execution_count": 10,
   "id": "38086256-886e-47c9-b352-9efa82358f66",
   "metadata": {},
   "outputs": [
    {
     "name": "stdout",
     "output_type": "stream",
     "text": [
      "A  logit  family of distributions from SST has been generated \n",
      " and saved under the names:  \n",
      " dlogitSST plogitSST qlogitSST rlogitSST logitSST \n",
      "A  0 inflated logitSST distribution has been generated \n",
      " and saved under the names:  \n",
      " dlogitSSTInf0 plogitSSTInf0 qlogitSSTInf0 rlogitSSTInf0 \n",
      " plotlogitSSTInf0 \n"
     ]
    }
   ],
   "source": [
    "gen.Family(\"SST\", \"logit\")\n",
    "gen.Inf0to1(\"logitSST\",\"Zero\")\n",
    "set.seed(10)"
   ]
  },
  {
   "cell_type": "code",
   "execution_count": 12,
   "id": "f6ed43d8-f82a-49cd-ad21-40c8e0881cfe",
   "metadata": {},
   "outputs": [],
   "source": [
    "library(gamlss.tr)\n",
    "data(tensile)"
   ]
  },
  {
   "cell_type": "code",
   "execution_count": 13,
   "id": "96213a22-5da8-43a3-98ca-6e5c585820ff",
   "metadata": {},
   "outputs": [
    {
     "name": "stdout",
     "output_type": "stream",
     "text": [
      "A truncated family of distributions from GA has been generated \n",
      " and saved under the names:  \n",
      " dGAtr pGAtr qGAtr rGAtr GAtr \n",
      "The type of truncation is right \n",
      " and the truncation parameter is 1  \n",
      "A truncated family of distributions from LOGNO has been generated \n",
      " and saved under the names:  \n",
      " dLOGNOtr pLOGNOtr qLOGNOtr rLOGNOtr LOGNOtr \n",
      "The type of truncation is right \n",
      " and the truncation parameter is 1  \n",
      "A truncated family of distributions from TF has been generated \n",
      " and saved under the names:  \n",
      " dTFtr pTFtr qTFtr rTFtr TFtr \n",
      "The type of truncation is both \n",
      " and the truncation parameter is 0 1  \n",
      "----------------------------------------  \n",
      "fitting different real0to1 distributions \n",
      "  |=====                                                                 |   8%1   BE -2.610127 \n",
      "  |===========                                                           |  15%2   BEo -2.610127 \n",
      "  |================                                                      |  23%Error in solve.default(oout$hessian) : \n",
      "  system is computationally singular: reciprocal condition number = 8.76466e-24\n",
      "3   BEINF0 -0.6101274 \n",
      "  |======================                                                |  31%Error in solve.default(oout$hessian) : \n",
      "  Lapack routine dgesv: system is exactly singular: U[3,3] = 0\n",
      "4   BEINF1 -0.6101274 \n",
      "  |===========================                                           |  38%5   LOGITNO -4.227934 \n",
      "  |================================                                      |  46%6   SIMPLEX -4.369151 \n",
      "  |======================================                                |  54%7   BEOI -0.6101274 \n",
      "  |===========================================                           |  62%8   BEZI -0.6101274 \n",
      "  |================================================                      |  69%9   BEINF 1.389873 \n",
      "  |======================================================                |  77%"
     ]
    },
    {
     "name": "stderr",
     "output_type": "stream",
     "text": [
      "Warning message in MLE(ll4, start = list(eta.mu = eta.mu, eta.sigma = eta.sigma, :\n",
      "“possible convergence problem: optim gave code=1 function evaluation limit reached without convergence (9)”\n"
     ]
    },
    {
     "name": "stdout",
     "output_type": "stream",
     "text": [
      "10   GB1 -0.06275114 \n",
      "  |===========================================================           |  85%11   GAtr -2.97571 \n",
      "  |=================================================================     |  92%12   LOGNOtr -3.675824 \n",
      "  |======================================================================| 100%Error in solve.default(oout$hessian) : \n",
      "  Lapack routine dgesv: system is exactly singular: U[3,3] = 0\n",
      "13   TFtr -0.679559 \n",
      "\n"
     ]
    }
   ],
   "source": [
    "gen.trun(par=1,family=\"GA\", type=\"right\")\n",
    "gen.trun(par=1,\"LOGNO\", type=\"right\")\n",
    "gen.trun(par=c(0,1),\"TF\", type=\"both\")\n",
    "ma <- fitDist(str, type=\"real0to1\", trace=T, extra=c(\"GAtr\", \"LOGNOtr\", \"TFtr\"), data=tensile)"
   ]
  },
  {
   "cell_type": "code",
   "execution_count": null,
   "id": "f5e97f9d-8351-4bd8-930f-c865bef1a1c2",
   "metadata": {},
   "outputs": [],
   "source": [
    "Y <- rlogitSSTInf0(300,mu=0.5,sigma=0.7,nu=0.5,tau=5,xi0=0.5,log=FALSE)\n",
    "m1 <- gamlssInf0to1(y=Y, mu.formula=~1,\n",
    "                    sigma.formula=~1,\n",
    "                    nu.formula=~1,\n",
    "                    tau.formula=~1,\n",
    "                    xi0.formula=~1,\n",
    "                    family=logitSST,\n",
    "                    trace = TRUE)"
   ]
  },
  {
   "cell_type": "markdown",
   "id": "4d12a806-bee0-45cc-aee1-f05a9a1d82e0",
   "metadata": {},
   "source": [
    "## 2. Example of equivalent gamlss models for an inflated-at-1 Beta distribution"
   ]
  },
  {
   "cell_type": "code",
   "execution_count": 14,
   "id": "3a1584ce-8bca-4262-b1fa-cb5379f495c3",
   "metadata": {},
   "outputs": [
    {
     "name": "stdout",
     "output_type": "stream",
     "text": [
      "GAMLSS-RS iteration 1: Global Deviance = 554.1933 \n",
      "GAMLSS-RS iteration 2: Global Deviance = 554.0334 \n",
      "GAMLSS-RS iteration 3: Global Deviance = 554.0334 \n",
      "GAMLSS-RS iteration 1: Global Deviance = -90.7419 \n",
      "GAMLSS-RS iteration 2: Global Deviance = -90.9018 \n",
      "GAMLSS-RS iteration 3: Global Deviance = -90.9018 \n",
      "GAMLSS-RS iteration 1: Global Deviance = 644.9353 \n",
      "GAMLSS-RS iteration 2: Global Deviance = 644.9353 \n"
     ]
    }
   ],
   "source": [
    "Y <- rBEINF1(500,mu=0.5,sigma=0.7,nu=0.5)\n",
    "m2 <- gamlss(Y~1,sigma.formula=~1,nu.formula=~1,family=BEINF1)\n",
    "m3.1 <- gamlss(Y[Y<1]~1,sigma.formula=~1,family=BE)\n",
    "m3.2 <- gamlss(I(Y==1)~1,family=BI)\n",
    "m4 <- gamlssInf0to1(Y,\n",
    "                    mu.formula=~1,\n",
    "                    sigma.formula=~1,\n",
    "                    xi1=~1,\n",
    "                    family=BE)\n",
    "\n",
    "stopifnot(all.equal(deviance(m2),(deviance(m3.1)+deviance(m3.2))), all.equal(deviance(m2),deviance(m4)))"
   ]
  },
  {
   "cell_type": "markdown",
   "id": "a1180c95-a39e-41d6-991a-5d59176d87ef",
   "metadata": {},
   "source": [
    "### fitting truncated"
   ]
  },
  {
   "cell_type": "code",
   "execution_count": 15,
   "id": "d58b3508-71ce-469a-bf7f-22b84669884f",
   "metadata": {},
   "outputs": [
    {
     "name": "stdout",
     "output_type": "stream",
     "text": [
      "A truncated family of distributions from TF has been generated \n",
      " and saved under the names:  \n",
      " dTFtr pTFtr qTFtr rTFtr TFtr \n",
      "The type of truncation is left \n",
      " and the truncation parameter is 0  \n"
     ]
    }
   ],
   "source": [
    "data(glass)\n",
    "library(gamlss.tr)\n",
    "gen.trun(par = 0, family = TF)"
   ]
  },
  {
   "cell_type": "code",
   "execution_count": 16,
   "id": "13d86efe-d83e-4e3f-816c-4b49d9f46d11",
   "metadata": {},
   "outputs": [
    {
     "name": "stdout",
     "output_type": "stream",
     "text": [
      "  |===========                                                           |  15%"
     ]
    },
    {
     "name": "stderr",
     "output_type": "stream",
     "text": [
      "Warning message in MLE(ll3, start = list(eta.mu = eta.mu, eta.sigma = eta.sigma, :\n",
      "“possible convergence problem: optim gave code=1 false convergence (8)”\n"
     ]
    },
    {
     "name": "stdout",
     "output_type": "stream",
     "text": [
      "  |============                                                          |  17%"
     ]
    },
    {
     "name": "stderr",
     "output_type": "stream",
     "text": [
      "Warning message in MLE(ll3, start = list(eta.mu = eta.mu, eta.sigma = eta.sigma, :\n",
      "“possible convergence problem: optim gave code=1 false convergence (8)”\n"
     ]
    },
    {
     "name": "stdout",
     "output_type": "stream",
     "text": [
      "  |================                                                      |  23%"
     ]
    },
    {
     "name": "stderr",
     "output_type": "stream",
     "text": [
      "Warning message in MLE(ll3, start = list(eta.mu = eta.mu, eta.sigma = eta.sigma, :\n",
      "“possible convergence problem: optim gave code=1 false convergence (8)”\n"
     ]
    },
    {
     "name": "stdout",
     "output_type": "stream",
     "text": [
      "  |==========================                                            |  37%"
     ]
    },
    {
     "name": "stderr",
     "output_type": "stream",
     "text": [
      "Warning message in MLE(ll4, start = list(eta.mu = eta.mu, eta.sigma = eta.sigma, :\n",
      "“possible convergence problem: optim gave code=1 false convergence (8)”\n"
     ]
    },
    {
     "name": "stdout",
     "output_type": "stream",
     "text": [
      "  |============================                                          |  40%"
     ]
    },
    {
     "name": "stderr",
     "output_type": "stream",
     "text": [
      "Warning message in MLE(ll4, start = list(eta.mu = eta.mu, eta.sigma = eta.sigma, :\n",
      "“possible convergence problem: optim gave code=1 false convergence (8)”\n"
     ]
    },
    {
     "name": "stdout",
     "output_type": "stream",
     "text": [
      "  |==============================                                        |  42%"
     ]
    },
    {
     "name": "stderr",
     "output_type": "stream",
     "text": [
      "Warning message in MLE(ll4, start = list(eta.mu = eta.mu, eta.sigma = eta.sigma, :\n",
      "“possible convergence problem: optim gave code=1 false convergence (8)”\n"
     ]
    },
    {
     "name": "stdout",
     "output_type": "stream",
     "text": [
      "  |=======================================                               |  56%"
     ]
    },
    {
     "name": "stderr",
     "output_type": "stream",
     "text": [
      "Warning message in MLE(ll4, start = list(eta.mu = eta.mu, eta.sigma = eta.sigma, :\n",
      "“possible convergence problem: optim gave code=1 false convergence (8)”\n"
     ]
    },
    {
     "name": "stdout",
     "output_type": "stream",
     "text": [
      "  |====================================================                  |  75%"
     ]
    },
    {
     "name": "stderr",
     "output_type": "stream",
     "text": [
      "Warning message in MLE(ll2, start = list(eta.mu = eta.mu, eta.sigma = eta.sigma), :\n",
      "“possible convergence problem: optim gave code=1 false convergence (8)”\n"
     ]
    },
    {
     "name": "stdout",
     "output_type": "stream",
     "text": [
      "  |======================================================                |  77%"
     ]
    },
    {
     "name": "stderr",
     "output_type": "stream",
     "text": [
      "Warning message in MLE(ll2, start = list(eta.mu = eta.mu, eta.sigma = eta.sigma), :\n",
      "“possible convergence problem: optim gave code=1 false convergence (8)”\n"
     ]
    },
    {
     "name": "stdout",
     "output_type": "stream",
     "text": [
      "  |=======================================================               |  79%"
     ]
    },
    {
     "name": "stderr",
     "output_type": "stream",
     "text": [
      "Warning message in MLE(ll2, start = list(eta.mu = eta.mu, eta.sigma = eta.sigma), :\n",
      "“possible convergence problem: optim gave code=1 false convergence (8)”\n"
     ]
    },
    {
     "name": "stdout",
     "output_type": "stream",
     "text": [
      "  |===================================================================== |  98%"
     ]
    },
    {
     "name": "stderr",
     "output_type": "stream",
     "text": [
      "Warning message in nlminb(start = start, objective = f, control = optim.control):\n",
      "“NA/NaN function evaluation”\n",
      "Warning message in MLE(ll4, start = list(eta.mu = eta.mu, eta.sigma = eta.sigma, :\n",
      "“possible convergence problem: optim gave code=1 false convergence (8)”\n"
     ]
    },
    {
     "name": "stdout",
     "output_type": "stream",
     "text": [
      "  |======================================================================| 100%\n"
     ]
    }
   ],
   "source": [
    "m1<-fitDist(strength, data=glass, k=2, extra=\"TFtr\")"
   ]
  },
  {
   "cell_type": "markdown",
   "id": "2f29ddf8-f9b7-49ab-9585-f61c5286186a",
   "metadata": {},
   "source": [
    "'#' AIC\n",
    "\n",
    "'#' SBC\n"
   ]
  },
  {
   "cell_type": "code",
   "execution_count": 17,
   "id": "9d74cde4-fbbf-4d73-8657-c01dcf881b5f",
   "metadata": {},
   "outputs": [
    {
     "data": {
      "text/html": [
       "<style>\n",
       ".dl-inline {width: auto; margin:0; padding: 0}\n",
       ".dl-inline>dt, .dl-inline>dd {float: none; width: auto; display: inline-block}\n",
       ".dl-inline>dt::after {content: \":\\0020\"; padding-right: .5ex}\n",
       ".dl-inline>dt:not(:first-of-type) {padding-left: .5ex}\n",
       "</style><dl class=dl-inline><dt>SEP4</dt><dd>27.6536120545901</dd><dt>SEP3</dt><dd>27.9732099031375</dd><dt>SHASHo</dt><dd>28.0179998807541</dd><dt>SHASHo2</dt><dd>28.017999880791</dd><dt>SEP1</dt><dd>29.0007212642764</dd><dt>SEP2</dt><dd>29.0591225929374</dd><dt>SHASH</dt><dd>29.3159099256349</dd><dt>GB2</dt><dd>29.521212726566</dd></dl>\n"
      ],
      "text/latex": [
       "\\begin{description*}\n",
       "\\item[SEP4] 27.6536120545901\n",
       "\\item[SEP3] 27.9732099031375\n",
       "\\item[SHASHo] 28.0179998807541\n",
       "\\item[SHASHo2] 28.017999880791\n",
       "\\item[SEP1] 29.0007212642764\n",
       "\\item[SEP2] 29.0591225929374\n",
       "\\item[SHASH] 29.3159099256349\n",
       "\\item[GB2] 29.521212726566\n",
       "\\end{description*}\n"
      ],
      "text/markdown": [
       "SEP4\n",
       ":   27.6536120545901SEP3\n",
       ":   27.9732099031375SHASHo\n",
       ":   28.0179998807541SHASHo2\n",
       ":   28.017999880791SEP1\n",
       ":   29.0007212642764SEP2\n",
       ":   29.0591225929374SHASH\n",
       ":   29.3159099256349GB2\n",
       ":   29.521212726566\n",
       "\n"
      ],
      "text/plain": [
       "    SEP4     SEP3   SHASHo  SHASHo2     SEP1     SEP2    SHASH      GB2 \n",
       "27.65361 27.97321 28.01800 28.01800 29.00072 29.05912 29.31591 29.52121 "
      ]
     },
     "metadata": {},
     "output_type": "display_data"
    },
    {
     "name": "stderr",
     "output_type": "stream",
     "text": [
      "Warning message in MLE(ll4, start = list(eta.mu = eta.mu, eta.sigma = eta.sigma, :\n",
      "“possible convergence problem: optim gave code=1 false convergence (8)”\n"
     ]
    },
    {
     "data": {
      "text/plain": [
       "\n",
       "Family:  c(\"SEP4\", \"skew exponential power type 4\") \n",
       "Fitting method: \"nlminb\" \n",
       "\n",
       "Call:  gamlssML(formula = glass$strength, family = \"SEP4\") \n",
       "\n",
       "Mu Coefficients:\n",
       "[1]  1.61\n",
       "Sigma Coefficients:\n",
       "[1]  -1.839\n",
       "Nu Coefficients:\n",
       "[1]  -0.3338\n",
       "Tau Coefficients:\n",
       "[1]  0.0602\n",
       "\n",
       " Degrees of Freedom for the fit: 4 Residual Deg. of Freedom   59 \n",
       "Global Deviance:     19.6536 \n",
       "            AIC:     27.6536 \n",
       "            SBC:     36.2262 "
      ]
     },
     "metadata": {},
     "output_type": "display_data"
    },
    {
     "data": {
      "image/png": "[encoded data removed]",
      "text/plain": [
       "Plot with title “SEP4 distribution”"
      ]
     },
     "metadata": {
      "image/png": {
       "height": 420,
       "width": 420
      }
     },
     "output_type": "display_data"
    }
   ],
   "source": [
    "m1$fit[1:8]\n",
    "histDist(glass$strength, SEP4, nbins = 13,\n",
    "         main = \"SEP4 distribution\",\n",
    "         method = mixed(20, 50))"
   ]
  },
  {
   "cell_type": "code",
   "execution_count": null,
   "id": "8152733f-9b52-4deb-b68d-687fcfc4691b",
   "metadata": {},
   "outputs": [],
   "source": []
  }
 ],
 "metadata": {
  "kernelspec": {
   "display_name": "R",
   "language": "R",
   "name": "ir"
  },
  "language_info": {
   "codemirror_mode": "r",
   "file_extension": ".r",
   "mimetype": "text/x-r-source",
   "name": "R",
   "pygments_lexer": "r",
   "version": "4.3.2"
  }
 },
 "nbformat": 4,
 "nbformat_minor": 5
}
