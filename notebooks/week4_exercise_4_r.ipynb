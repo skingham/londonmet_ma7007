{
 "cells": [
  {
   "cell_type": "markdown",
   "id": "39911465-0d4e-4702-97fb-158716b45c94",
   "metadata": {},
   "source": [
    "# Exercise 4.pdf\n",
    "\n",
    "The R code provided performs several tasks related to statistical modeling and analysis, particularly focusing on the use of generalized additive models for location, scale, and shape (GAMLSS) and truncated distributions. Here's a breakdown of its main components and actions:\n",
    "\n",
    "1. **Installation and Loading of Packages**: The script begins by attempting to install the `gamlss.inf` package, which is likely a typo or a custom function not standard in R, as the correct function to install packages is `install.packages()`. Then, it defines new family distributions and truncated distributions using functions like `gen.Family()`, `gen.Inf0to1()`, and `gen.trun()`.\n",
    "\n",
    "2. **Setting Seed for Reproducibility**: `set.seed(10)` ensures that any random operations can be replicated in future runs.\n",
    "\n",
    "3. **Loading the `gamlss.tr` Library and Data**: It loads the `gamlss.tr` library, which is used for fitting truncated and censored distributions in the GAMLSS framework. It then loads the `tensile` dataset, which is likely used for modeling.\n",
    "\n",
    "4. **Generation of Truncated Distributions**: The script generates truncated versions of various distributions (`GA`, `LOGNO`, `TF`) with specified parameters.\n",
    "\n",
    "5. **Fitting Distributions to Data**: It attempts to fit different truncated distributions to the `tensile` dataset using a custom function `fitDist()`, which is not standard in R and is presumably defined elsewhere or is part of a loaded package.\n",
    "\n",
    "6. **Creating and Modeling Inflated Distributions**: The script generates data from an inflated distribution (at zero for `logitSST` and at one for `BEINF1`) and fits GAMLSS models to this data. This part includes examples of fitting distributions with inflation at specific points (0 or 1), showcasing the flexibility of GAMLSS in handling complex distributional forms.\n",
    "\n",
    "7. **Model Comparisons and Checks**: It compares the deviances of different model fits to check for consistency or equivalence, using `stopifnot()` to assert that certain conditions are true. This is a method to ensure that the models are performing as expected.\n",
    "\n",
    "8. **Additional Data Analysis with Another Dataset (`glass`)**: The script performs similar actions as above but with a different dataset, `glass`, focusing on fitting distributions and analyzing the `strength` variable. It includes generating a truncated distribution, fitting a distribution, and visualizing the distribution of `strength` using a histogram.\n",
    "\n",
    "Overall, the script showcases advanced usage of the GAMLSS framework for modeling complex data distributions, including truncated and inflated-at-specific-points distributions. It performs data fitting, model checking, and visualization tasks, although it assumes the presence of certain custom functions or packages (`fitDist()`, `gamlss.inf`, etc.) that are not standard in R's base or commonly used packages."
   ]
  },
  {
   "cell_type": "code",
   "execution_count": null,
   "id": "4e99bbac-7f05-45dd-b407-0bf91e47d97a",
   "metadata": {
    "vscode": {
     "languageId": "r"
    }
   },
   "outputs": [],
   "source": [
    "# install.packages('gamlss.inf')\n",
    "library(gamlss.inf)"
   ]
  },
  {
   "cell_type": "code",
   "execution_count": null,
   "id": "38086256-886e-47c9-b352-9efa82358f66",
   "metadata": {
    "vscode": {
     "languageId": "r"
    }
   },
   "outputs": [],
   "source": [
    "gen.Family(\"SST\", \"logit\")\n",
    "gen.Inf0to1(\"logitSST\",\"Zero\")\n",
    "set.seed(10)"
   ]
  },
  {
   "cell_type": "code",
   "execution_count": null,
   "id": "f6ed43d8-f82a-49cd-ad21-40c8e0881cfe",
   "metadata": {
    "vscode": {
     "languageId": "r"
    }
   },
   "outputs": [],
   "source": [
    "library(gamlss.tr)\n",
    "data(tensile)"
   ]
  },
  {
   "cell_type": "code",
   "execution_count": null,
   "id": "96213a22-5da8-43a3-98ca-6e5c585820ff",
   "metadata": {
    "vscode": {
     "languageId": "r"
    }
   },
   "outputs": [],
   "source": [
    "gen.trun(par=1,family=\"GA\", type=\"right\")\n",
    "gen.trun(par=1,\"LOGNO\", type=\"right\")\n",
    "gen.trun(par=c(0,1),\"TF\", type=\"both\")\n",
    "ma <- fitDist(str, type=\"real0to1\", trace=T, extra=c(\"GAtr\", \"LOGNOtr\", \"TFtr\"), data=tensile)"
   ]
  },
  {
   "cell_type": "code",
   "execution_count": null,
   "id": "f5e97f9d-8351-4bd8-930f-c865bef1a1c2",
   "metadata": {
    "vscode": {
     "languageId": "r"
    }
   },
   "outputs": [],
   "source": [
    "Y <- rlogitSSTInf0(300,mu=0.5,sigma=0.7,nu=0.5,tau=5,xi0=0.5,log=FALSE)\n",
    "m1 <- gamlssInf0to1(y=Y, mu.formula=~1,\n",
    "                    sigma.formula=~1,\n",
    "                    nu.formula=~1,\n",
    "                    tau.formula=~1,\n",
    "                    xi0.formula=~1,\n",
    "                    family=logitSST,\n",
    "                    trace = TRUE)"
   ]
  },
  {
   "cell_type": "markdown",
   "id": "4d12a806-bee0-45cc-aee1-f05a9a1d82e0",
   "metadata": {},
   "source": [
    "## 2. Example of equivalent gamlss models for an inflated-at-1 Beta distribution"
   ]
  },
  {
   "cell_type": "code",
   "execution_count": null,
   "id": "3a1584ce-8bca-4262-b1fa-cb5379f495c3",
   "metadata": {
    "vscode": {
     "languageId": "r"
    }
   },
   "outputs": [],
   "source": [
    "Y <- rBEINF1(500,mu=0.5,sigma=0.7,nu=0.5)\n",
    "m2 <- gamlss(Y~1,sigma.formula=~1,nu.formula=~1,family=BEINF1)\n",
    "m3.1 <- gamlss(Y[Y<1]~1,sigma.formula=~1,family=BE)\n",
    "m3.2 <- gamlss(I(Y==1)~1,family=BI)\n",
    "m4 <- gamlssInf0to1(Y,\n",
    "                    mu.formula=~1,\n",
    "                    sigma.formula=~1,\n",
    "                    xi1=~1,\n",
    "                    family=BE)\n",
    "\n",
    "stopifnot(all.equal(deviance(m2),(deviance(m3.1)+deviance(m3.2))), all.equal(deviance(m2),deviance(m4)))"
   ]
  },
  {
   "cell_type": "markdown",
   "id": "a1180c95-a39e-41d6-991a-5d59176d87ef",
   "metadata": {},
   "source": [
    "### fitting truncated"
   ]
  },
  {
   "cell_type": "code",
   "execution_count": null,
   "id": "d58b3508-71ce-469a-bf7f-22b84669884f",
   "metadata": {
    "vscode": {
     "languageId": "r"
    }
   },
   "outputs": [],
   "source": [
    "data(glass)\n",
    "library(gamlss.tr)\n",
    "gen.trun(par = 0, family = TF)"
   ]
  },
  {
   "cell_type": "code",
   "execution_count": null,
   "id": "13d86efe-d83e-4e3f-816c-4b49d9f46d11",
   "metadata": {
    "vscode": {
     "languageId": "r"
    }
   },
   "outputs": [],
   "source": [
    "m1<-fitDist(strength, data=glass, k=2, extra=\"TFtr\")"
   ]
  },
  {
   "cell_type": "markdown",
   "id": "2f29ddf8-f9b7-49ab-9585-f61c5286186a",
   "metadata": {},
   "source": [
    "'#' AIC\n",
    "\n",
    "'#' SBC\n"
   ]
  },
  {
   "cell_type": "code",
   "execution_count": null,
   "id": "9d74cde4-fbbf-4d73-8657-c01dcf881b5f",
   "metadata": {
    "vscode": {
     "languageId": "r"
    }
   },
   "outputs": [],
   "source": [
    "m1$fit[1:8]\n",
    "histDist(glass$strength, SEP4, nbins = 13,\n",
    "         main = \"SEP4 distribution\",\n",
    "         method = mixed(20, 50))"
   ]
  }
 ],
 "metadata": {
  "kernelspec": {
   "display_name": "R",
   "language": "R",
   "name": "ir"
  },
  "language_info": {
   "codemirror_mode": "r",
   "file_extension": ".r",
   "mimetype": "text/x-r-source",
   "name": "R",
   "pygments_lexer": "r",
   "version": "4.3.2"
  }
 },
 "nbformat": 4,
 "nbformat_minor": 5
}
