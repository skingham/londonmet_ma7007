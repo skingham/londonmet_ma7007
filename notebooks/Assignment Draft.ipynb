{
 "cells": [
  {
   "cell_type": "markdown",
   "id": "01474051-5f0b-42a6-baa5-ef20d715c0ca",
   "metadata": {},
   "source": [
    "# Assignment Question 1 Draft\n",
    "\n",
    "To address the given task, we'll go through it step by step, writing R code for each part. The task involves analyzing BMI data for Dutch boys aged 10 to 11 years from the `dbbmi` dataset in the `gamlss.data` package, fitting parametric distributions, and selecting an appropriate one based on the analysis.\n",
    "\n",
    "### 1. Plotting the Data\n",
    "\n",
    "First, let's load the data, subset it for the specific age group, and plot the histogram to find a suitable value for `nbins`."
   ]
  },
  {
   "cell_type": "code",
   "execution_count": 1,
   "id": "132e7fac-f07b-484c-96c7-5c843129ce59",
   "metadata": {},
   "outputs": [
    {
     "name": "stderr",
     "output_type": "stream",
     "text": [
      "\n",
      "Attaching package: ‘gamlss.data’\n",
      "\n",
      "\n",
      "The following object is masked from ‘package:datasets’:\n",
      "\n",
      "    sleep\n",
      "\n",
      "\n",
      "Loading required package: splines\n",
      "\n",
      "Loading required package: gamlss.dist\n",
      "\n",
      "Loading required package: nlme\n",
      "\n",
      "Loading required package: parallel\n",
      "\n",
      " **********   GAMLSS Version 5.4-20  ********** \n",
      "\n",
      "For more on GAMLSS look at https://www.gamlss.com/\n",
      "\n",
      "Type gamlssNews() to see new features/changes/bug fixes.\n",
      "\n",
      "\n"
     ]
    },
    {
     "data": {
      "image/png": "[encoded data removed]",
      "text/plain": [
       "plot without title"
      ]
     },
     "metadata": {
      "image/png": {
       "height": 420,
       "width": 420
      }
     },
     "output_type": "display_data"
    }
   ],
   "source": [
    "library(gamlss.data)\n",
    "library(MASS)\n",
    "library(gamlss)\n",
    "library(ggplot2)\n",
    "\n",
    "# Load the dataset\n",
    "data(dbbmi)\n",
    "\n",
    "# Subset for ages 10 to 11\n",
    "old <- 10\n",
    "da <- with(dbbmi, subset(dbbmi, age > old & age < old + 1))\n",
    "bmi10 <- da$bmi\n",
    "\n",
    "# Plot the histogram\n",
    "truehist(bmi10, nbins=30) # Adjust nbins as needed to make the histogram look good"
   ]
  },
  {
   "cell_type": "markdown",
   "id": "22c3aa22-5c84-4e9c-a998-c664e4798aab",
   "metadata": {},
   "source": [
    "Experiment with the `nbins` parameter to find a visually appealing and informative histogram. The goal is to have enough bins to clearly see the distribution's shape without making it too noisy.\n",
    "\n",
    "### 2. Fitting Parametric Distributions\n",
    "\n",
    "Next, we'll fit several parametric distributions to the data. Common distributions for BMI data include the Normal, Log-Normal, and Gamma distributions, among others. The `gamlss` package provides functions to fit a wide range of distributions."
   ]
  },
  {
   "cell_type": "code",
   "execution_count": 2,
   "id": "2281f06f-7829-4e37-a00e-2a4c7fc4aaa6",
   "metadata": {},
   "outputs": [
    {
     "name": "stdout",
     "output_type": "stream",
     "text": [
      "GAMLSS-RS iteration 1: Global Deviance = 1484.827 \n",
      "GAMLSS-RS iteration 2: Global Deviance = 1484.827 \n",
      "GAMLSS-RS iteration 1: Global Deviance = 1433.15 \n",
      "GAMLSS-RS iteration 2: Global Deviance = 1433.15 \n",
      "GAMLSS-RS iteration 1: Global Deviance = 1448.24 \n",
      "GAMLSS-RS iteration 2: Global Deviance = 1448.24 \n",
      "[1] 1488.827 1437.150 1452.240\n"
     ]
    }
   ],
   "source": [
    "# Fit different distributions\n",
    "fit_norm <- gamlss(bmi10 ~ 1, family=NO)\n",
    "fit_lognorm <- gamlss(bmi10 ~ 1, family=LOGNO)\n",
    "fit_gamma <- gamlss(bmi10 ~ 1, family=GA)\n",
    "\n",
    "# Compare models\n",
    "models <- list(fit_norm, fit_lognorm, fit_gamma)\n",
    "aic_values <- sapply(models, AIC)\n",
    "print(aic_values)\n",
    "\n",
    "# Select the model with the lowest AIC\n",
    "selected_model <- models[[which.min(aic_values)]]"
   ]
  },
  {
   "cell_type": "markdown",
   "id": "cc8d5306-da87-4662-8706-baf7c6694658",
   "metadata": {},
   "source": [
    "The choice of distribution can be justified by comparing the Akaike Information Criterion (AIC) values of the fitted models—the model with the lowest AIC is typically preferred as it suggests a good fit with relatively lower complexity.\n",
    "\n",
    "### 3. Output Parameter Estimates and Interpretation\n",
    "\n",
    "Finally, for the chosen model, we can output the parameter estimates and interpret them according to the distribution's characteristics."
   ]
  },
  {
   "cell_type": "code",
   "execution_count": 3,
   "id": "6b29fbc2-f613-4ea8-a65f-114ab9d8b6de",
   "metadata": {},
   "outputs": [
    {
     "name": "stdout",
     "output_type": "stream",
     "text": [
      "******************************************************************\n",
      "Family:  c(\"LOGNO\", \"Log Normal\") \n",
      "\n",
      "Call:  gamlss(formula = bmi10 ~ 1, family = LOGNO) \n",
      "\n",
      "Fitting method: RS() \n",
      "\n",
      "------------------------------------------------------------------\n",
      "Mu link function:  identity\n",
      "Mu Coefficients:\n",
      "            Estimate Std. Error t value Pr(>|t|)    \n",
      "(Intercept) 2.816818   0.006457   436.3   <2e-16 ***\n",
      "---\n",
      "Signif. codes:  0 ‘***’ 0.001 ‘**’ 0.01 ‘*’ 0.05 ‘.’ 0.1 ‘ ’ 1\n",
      "\n",
      "------------------------------------------------------------------\n",
      "Sigma link function:  log\n",
      "Sigma Coefficients:\n",
      "            Estimate Std. Error t value Pr(>|t|)    \n",
      "(Intercept) -2.12818    0.03835   -55.5   <2e-16 ***\n",
      "---\n",
      "Signif. codes:  0 ‘***’ 0.001 ‘**’ 0.01 ‘*’ 0.05 ‘.’ 0.1 ‘ ’ 1\n",
      "\n",
      "------------------------------------------------------------------\n",
      "No. of observations in the fit:  340 \n",
      "Degrees of Freedom for the fit:  2\n",
      "      Residual Deg. of Freedom:  338 \n",
      "                      at cycle:  2 \n",
      " \n",
      "Global Deviance:     1433.15 \n",
      "            AIC:     1437.15 \n",
      "            SBC:     1444.808 \n",
      "******************************************************************\n"
     ]
    }
   ],
   "source": [
    "# Output parameter estimates for the chosen model\n",
    "summary(selected_model)"
   ]
  },
  {
   "cell_type": "markdown",
   "id": "7cccc6fc-7123-4a87-804d-0671a399234e",
   "metadata": {},
   "source": [
    "Interpretation of the parameters will depend on the selected distribution. For example:\n",
    "- For a Normal distribution (`NO`), the parameters are the mean (`mu`) and standard deviation (`sigma`), representing the location and scale of the distribution.\n",
    "- For a Log-Normal distribution (`LOGNO`), `mu` and `sigma` represent the mean and standard deviation of the variable's logarithm, indicating the distribution's central tendency and spread on a log scale.\n",
    "- For a Gamma distribution (`GA`), the parameters might include a shape and a scale parameter, reflecting the distribution's skewness and scale.\n",
    "\n",
    "Refer to the GAMLSS book or documentation for specific interpretations of the parameters of your chosen distribution. The interpretation will help in understanding the characteristics of BMI distribution among Dutch boys aged 10 to 11, such as its central tendency, variability, and potential skewness."
   ]
  }
 ],
 "metadata": {
  "kernelspec": {
   "display_name": "R",
   "language": "R",
   "name": "ir"
  },
  "language_info": {
   "codemirror_mode": "r",
   "file_extension": ".r",
   "mimetype": "text/x-r-source",
   "name": "R",
   "pygments_lexer": "r",
   "version": "4.3.3"
  }
 },
 "nbformat": 4,
 "nbformat_minor": 5
}
