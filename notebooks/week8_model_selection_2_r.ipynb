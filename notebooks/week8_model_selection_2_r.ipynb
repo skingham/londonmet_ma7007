{
 "cells": [
  {
   "cell_type": "markdown",
   "id": "106ba7c9-ec14-4548-8280-0611f51d377e",
   "metadata": {},
   "source": [
    "# Week 8:"
   ]
  },
  {
   "cell_type": "code",
   "execution_count": null,
   "id": "58576302-9888-4f6e-8d81-ec25b9a12b72",
   "metadata": {
    "vscode": {
     "languageId": "r"
    }
   },
   "outputs": [],
   "source": [
    "#============================================\n",
    "# Air Quality Data\n",
    "#============================================\n",
    "rm(list=ls())\n",
    "library(gamlss)\n",
    "#############################################\n",
    "# bring the data\n",
    "data(\"airquality\")\n",
    "# how big the data are\n",
    "dim(airquality)\n",
    "names(airquality)\n",
    "# looking at a few sample of the data\n",
    "head(airquality)\n",
    "# looking at the whole data\n",
    "print(airquality)\n",
    "# the structure of the data\n",
    "str(airquality)\n",
    "# plotting the data\n",
    "plot(airquality)\n",
    "#############################################\n",
    "# This will not work since there are NA's\n",
    "# m1 <- gamlss(Ozone~., data=airquality)\n",
    "#############################################\n",
    "da <- na.omit(airquality)\n",
    "dim(da)\n",
    "da$Month <- factor(da$Month)\n",
    "str(da)\n",
    "# compare with\n",
    "dim(airquality)\n",
    "#############################################\n",
    "# selecting a distribution\n",
    "#############################################\n",
    "m1 <- gamlss(Ozone~., data=da) #null model\n",
    "TM <- chooseDist(m1, type=\"realplus\")\n",
    "TM\n",
    "getOrder(TM, 3)\n",
    "\n",
    "m2 <- gamlss(Ozone~., data=da, family=GA)\n",
    "\n",
    "plot(m2)\n",
    "wp(m2)\n",
    "\n",
    "#===============================\n",
    "# selecting terms\n",
    "#===============================\n",
    "# only linear\n",
    "# for all the parameters of the Gamma distribution\n",
    "m0 <- gamlss(Ozone~., data=da, family=GA)\n",
    "mf <- stepGAICAll.A(m0,\n",
    "          scope=list(lower=~1, upper=~Solar.R+Wind+Temp+Month+Day))\n",
    "mf\n",
    "\n",
    "plot(mf)\n",
    "wp(mf)\n",
    "\n",
    "summary(mf)\n",
    "\n",
    "term.plot(mf, ask=F, pages=1)\n",
    "term.plot(mf, parameter=\"sigma\", ask=F, pages=1)\n",
    "# with first order interactions\n",
    "mfi <- stepGAICAll.A(m0,\n",
    "           scope=list(lower=~1, upper=~(Solar.R+Wind+Temp+Month+Day)^2))\n",
    "summary(mfi)\n",
    "# No first order interaction\n",
    "#==================================================\n",
    "# smoothers\n",
    "mf1 <- stepGAICAll.A(m0,\n",
    "           scope=list(lower=~1, upper=~pb(Solar.R)+pb(Wind)+pb(Temp)+Month+pb(Day)),\n",
    "           parallel=\"snow\", ncpuss=8)\n",
    "mf1\n",
    "term.plot(mf1, ask=F, pages=1)\n",
    "#term.plot(mf1, parameter = \"sigma\", ask=F, pages=1)\n",
    "term.plot(mf1, parameter = \"mu\", ask=F, pages=1)\n",
    "wp(mf1)\n",
    "\n",
    "GAIC(m0, m1, m2, mf, mfi, mf1)"
   ]
  }
 ],
 "metadata": {
  "kernelspec": {
   "display_name": "R",
   "language": "R",
   "name": "ir"
  },
  "language_info": {
   "codemirror_mode": "r",
   "file_extension": ".r",
   "mimetype": "text/x-r-source",
   "name": "R",
   "pygments_lexer": "r",
   "version": "4.3.2"
  }
 },
 "nbformat": 4,
 "nbformat_minor": 5
}
