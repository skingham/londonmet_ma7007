{
 "cells": [
  {
   "cell_type": "markdown",
   "metadata": {},
   "source": [
    "# Week Smoothing Additive Terms\n",
    "\n",
    "## Pb() And Pbz\n",
    "\n",
    "Fits a generalized additive model for location, scale, and shape (GAMLSS) to predict the variable y using a penalized spline (pb()) "
   ]
  },
  {
   "cell_type": "code",
   "execution_count": null,
   "metadata": {
    "vscode": {
     "languageId": "r"
    }
   },
   "outputs": [],
   "source": [
    "library(gamlss)"
   ]
  },
  {
   "cell_type": "code",
   "execution_count": null,
   "metadata": {
    "vscode": {
     "languageId": "r"
    }
   },
   "outputs": [],
   "source": [
    "data(abdom)\n",
    "abdom$x1 <- rNO(610, mu = 5, sigma = 5)\n",
    "\n",
    "#fitting the original x\n",
    "m0 <- gamlss(y ~ pb(x), data = abdom, trace = FALSE)\n",
    "\n",
    "# fitting extra x1 with pb()\n",
    "m1 <- gamlss(y ~ pb(x) + pb(x1), data = abdom, trace = FALSE)\n",
    "\n",
    "# fitting extra x1 with pbz\n",
    "m2 <- gamlss(y ~ pbz(x) + pbz(x1), data = abdom, trace = FALSE)\n",
    "AIC(m0, m1, m2)"
   ]
  },
  {
   "cell_type": "markdown",
   "metadata": {},
   "source": [
    "## Monotonic pbm()\n"
   ]
  },
  {
   "cell_type": "code",
   "execution_count": null,
   "metadata": {
    "vscode": {
     "languageId": "r"
    }
   },
   "outputs": [],
   "source": [
    "set.seed(1334)\n",
    "x <- seq(0, 1, length = 1000)\n",
    "p <- 0.4\n",
    "y <- sin(2 * pi * p * x) + rnorm(1000) * 0.1\n",
    "plot(y ~ x, cex = .2, col = \"grey\")\n",
    "\n",
    "m3 <- gamlss(y ~ pbm(x), trace = FALSE)\n",
    "lines(fitted(m3) ~ x, col = \"red\")\n",
    "\n",
    "yy <- -y\n",
    "plot(yy ~ pbm(x), cex = .2, col = \"grey\")\n",
    "\n",
    "m4 <- gamlss(yy ~ pbm(x, mono = \"down\"), trace = FALSE)\n",
    "lines(fitted(m4) ~ x, col = \"red\")"
   ]
  },
  {
   "cell_type": "markdown",
   "metadata": {},
   "source": [
    "## pbc()\n",
    "\n",
    "two ends of the fitted smooth functions have identical value.\n"
   ]
  },
  {
   "cell_type": "markdown",
   "metadata": {},
   "source": [
    "## CS ()"
   ]
  },
  {
   "cell_type": "code",
   "execution_count": null,
   "metadata": {
    "vscode": {
     "languageId": "r"
    }
   },
   "outputs": [],
   "source": [
    "rcs1 <- gamlss(R ~ cs(Fl) + cs(A), data = rent, family = GA, trace = FALSE)\n",
    "term.plot(rcs1)"
   ]
  },
  {
   "cell_type": "markdown",
   "metadata": {},
   "source": [
    "## ri()\n"
   ]
  },
  {
   "cell_type": "code",
   "execution_count": null,
   "metadata": {
    "vscode": {
     "languageId": "r"
    }
   },
   "outputs": [],
   "source": [
    "X <- with(usair, cbind(x1, x2, x3, x4, x5, x6))\n",
    "sX <- scale(X)\n",
    "m5 <- gamlss(y~sX, data= usair, trace= FALSE)\n",
    "m6 <- gamlss(y~ri(sX), data= usair) #ridge\n",
    "m7 <- gamlss(y~ri(sX, Lp=1), data= usair) #lasso"
   ]
  },
  {
   "cell_type": "markdown",
   "metadata": {},
   "source": [
    "## PVC"
   ]
  },
  {
   "cell_type": "code",
   "execution_count": null,
   "metadata": {
    "vscode": {
     "languageId": "r"
    }
   },
   "outputs": [],
   "source": [
    "# varying coefficient model \n",
    "mpvc <- gamlss(R ~ pb(Fl) + pb(A) + pvc(Fl, by=A), data = rent, family = GA, trace=FALSE)"
   ]
  },
  {
   "cell_type": "markdown",
   "metadata": {},
   "source": [
    "## NN"
   ]
  },
  {
   "cell_type": "code",
   "execution_count": null,
   "metadata": {
    "vscode": {
     "languageId": "r"
    }
   },
   "outputs": [],
   "source": [
    "# the thicker the line the bigger value. Negative coefficient grey, positive coefficient black.\n",
    "mNN <- gamlss(R ~ nn(~Fl + A, size=5, decay=0.01), data=rent, family=GA, trace=FALSE)"
   ]
  },
  {
   "cell_type": "markdown",
   "metadata": {},
   "source": [
    "## TR"
   ]
  },
  {
   "cell_type": "code",
   "execution_count": null,
   "metadata": {
    "vscode": {
     "languageId": "r"
    }
   },
   "outputs": [],
   "source": [
    "mTR <- gamlss(R ~ tr(~Fl + A + H + B + loc), data = rent, family = GA, gd.tol = 100)"
   ]
  }
 ],
 "metadata": {
  "kernelspec": {
   "display_name": "R",
   "language": "R",
   "name": "ir"
  },
  "language_info": {
   "codemirror_mode": "r",
   "file_extension": ".r",
   "mimetype": "text/x-r-source",
   "name": "R",
   "pygments_lexer": "r",
   "version": "4.3.2"
  }
 },
 "nbformat": 4,
 "nbformat_minor": 2
}
