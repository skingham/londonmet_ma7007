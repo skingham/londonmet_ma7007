{
 "cells": [
  {
   "cell_type": "markdown",
   "metadata": {},
   "source": [
    "# Week Smoothing Addive Terms\n",
    "\n",
    "## Pb() And Pbz\n",
    "\n",
    "Fits a generalized additive model for location, scale, and shape (GAMLSS) to predict the variable y using a penalized spline (pb()) "
   ]
  },
  {
   "cell_type": "code",
   "execution_count": 3,
   "metadata": {
    "vscode": {
     "languageId": "r"
    }
   },
   "outputs": [
    {
     "name": "stderr",
     "output_type": "stream",
     "text": [
      "Loading required package: splines\n",
      "\n",
      "Loading required package: gamlss.data\n",
      "\n",
      "\n",
      "Attaching package: ‘gamlss.data’\n",
      "\n",
      "\n",
      "The following object is masked from ‘package:datasets’:\n",
      "\n",
      "    sleep\n",
      "\n",
      "\n",
      "Loading required package: gamlss.dist\n",
      "\n",
      "Loading required package: nlme\n",
      "\n",
      "Loading required package: parallel\n",
      "\n",
      " **********   GAMLSS Version 5.4-20  ********** \n",
      "\n",
      "For more on GAMLSS look at https://www.gamlss.com/\n",
      "\n",
      "Type gamlssNews() to see new features/changes/bug fixes.\n",
      "\n",
      "\n"
     ]
    }
   ],
   "source": [
    "library(gamlss)"
   ]
  },
  {
   "cell_type": "code",
   "execution_count": 5,
   "metadata": {
    "vscode": {
     "languageId": "r"
    }
   },
   "outputs": [
    {
     "data": {
      "text/html": [
       "<table class=\"dataframe\">\n",
       "<caption>A data.frame: 3 × 2</caption>\n",
       "<thead>\n",
       "\t<tr><th></th><th scope=col>df</th><th scope=col>AIC</th></tr>\n",
       "\t<tr><th></th><th scope=col>&lt;dbl&gt;</th><th scope=col>&lt;dbl&gt;</th></tr>\n",
       "</thead>\n",
       "<tbody>\n",
       "\t<tr><th scope=row>m2</th><td>8.781638</td><td>4947.794</td></tr>\n",
       "\t<tr><th scope=row>m1</th><td>8.781638</td><td>4947.794</td></tr>\n",
       "\t<tr><th scope=row>m0</th><td>6.508274</td><td>4948.869</td></tr>\n",
       "</tbody>\n",
       "</table>\n"
      ],
      "text/latex": [
       "A data.frame: 3 × 2\n",
       "\\begin{tabular}{r|ll}\n",
       "  & df & AIC\\\\\n",
       "  & <dbl> & <dbl>\\\\\n",
       "\\hline\n",
       "\tm2 & 8.781638 & 4947.794\\\\\n",
       "\tm1 & 8.781638 & 4947.794\\\\\n",
       "\tm0 & 6.508274 & 4948.869\\\\\n",
       "\\end{tabular}\n"
      ],
      "text/markdown": [
       "\n",
       "A data.frame: 3 × 2\n",
       "\n",
       "| <!--/--> | df &lt;dbl&gt; | AIC &lt;dbl&gt; |\n",
       "|---|---|---|\n",
       "| m2 | 8.781638 | 4947.794 |\n",
       "| m1 | 8.781638 | 4947.794 |\n",
       "| m0 | 6.508274 | 4948.869 |\n",
       "\n"
      ],
      "text/plain": [
       "   df       AIC     \n",
       "m2 8.781638 4947.794\n",
       "m1 8.781638 4947.794\n",
       "m0 6.508274 4948.869"
      ]
     },
     "metadata": {},
     "output_type": "display_data"
    }
   ],
   "source": [
    "data(abdom)\n",
    "abdom$x1 <- rNO(610, mu = 5, sigma = 5)\n",
    "\n",
    "#fitting the original x\n",
    "m0 <- gamlss(y ~ pb(x), data = abdom, trace = FALSE)\n",
    "\n",
    "# fitting extra x1 with pb()\n",
    "m1 <- gamlss(y ~ pb(x) + pb(x1), data = abdom, trace = FALSE)\n",
    "\n",
    "# fitting extra x1 with pbz\n",
    "m2 <- gamlss(y ~ pbz(x) + pbz(x1), data = abdom, trace = FALSE)\n",
    "AIC(m0, m1, m2)"
   ]
  },
  {
   "cell_type": "markdown",
   "metadata": {},
   "source": [
    "## Monotonic pbm()\n"
   ]
  },
  {
   "cell_type": "code",
   "execution_count": 8,
   "metadata": {
    "vscode": {
     "languageId": "r"
    }
   },
   "outputs": [
    {
     "ename": "ERROR",
     "evalue": "Error in (function (formula, data = NULL, subset = NULL, na.action = na.fail, : variable lengths differ (found for 'x')\n",
     "output_type": "error",
     "traceback": [
      "Error in (function (formula, data = NULL, subset = NULL, na.action = na.fail, : variable lengths differ (found for 'x')\nTraceback:\n",
      "1. lines(fitted(m1) ~ x, col = \"red\")",
      "2. lines.formula(fitted(m1) ~ x, col = \"red\")",
      "3. eval(m, eframe)",
      "4. eval(m, eframe)",
      "5. (function (formula, data = NULL, subset = NULL, na.action = na.fail, \n .     drop.unused.levels = FALSE, xlev = NULL, ...) \n . {\n .     possible_newdata <- !missing(data) && is.data.frame(data) && \n .         identical(substitute(data), quote(newdata)) && (nr <- nrow(data)) > \n .         0\n .     if (!missing(formula) && nargs() == 1 && is.list(formula) && \n .         !is.null(m <- formula$model)) \n .         return(m)\n .     if (!missing(formula) && nargs() == 1 && is.list(formula) && \n .         all(c(\"terms\", \"call\") %in% names(formula))) {\n .         fcall <- formula$call\n .         m <- match(c(\"formula\", \"data\", \"subset\", \"weights\", \n .             \"na.action\"), names(fcall), 0)\n .         fcall <- fcall[c(1, m)]\n .         fcall[[1L]] <- quote(stats::model.frame)\n .         env <- environment(formula$terms) %||% parent.frame()\n .         return(eval(fcall, env))\n .     }\n .     if (missing(formula)) {\n .         if (!missing(data) && inherits(data, \"data.frame\") && \n .             length(attr(data, \"terms\"))) \n .             return(data)\n .         formula <- as.formula(data)\n .     }\n .     else if (missing(data) && inherits(formula, \"data.frame\")) {\n .         if (length(attr(formula, \"terms\"))) \n .             return(formula)\n .         data <- formula\n .         formula <- as.formula(data)\n .     }\n .     else formula <- as.formula(formula)\n .     if (missing(na.action)) {\n .         if (!is.null(naa <- attr(data, \"na.action\")) && mode(naa) != \n .             \"numeric\") \n .             na.action <- naa\n .         else if (!is.null(naa <- getOption(\"na.action\"))) \n .             na.action <- naa\n .     }\n .     if (missing(data)) \n .         data <- environment(formula)\n .     else if (!is.data.frame(data) && !is.environment(data) && \n .         !is.null(attr(data, \"class\"))) \n .         data <- as.data.frame(data)\n .     else if (is.array(data)) \n .         stop(\"'data' must be a data.frame, not a matrix or an array\")\n .     if (!is.data.frame(data) && !is.environment(data) && !is.list(data) && \n .         !is.null(data)) \n .         stop(\"'data' must be a data.frame, environment, or list\")\n .     if (!inherits(formula, \"terms\")) \n .         formula <- terms(formula, data = data)\n .     env <- environment(formula)\n .     rownames <- .row_names_info(data, 0L)\n .     vars <- attr(formula, \"variables\")\n .     predvars <- attr(formula, \"predvars\") %||% vars\n .     varnames <- vapply(vars, deparse2, \" \")[-1L]\n .     variables <- eval(predvars, data, env)\n .     resp <- attr(formula, \"response\")\n .     if (is.null(rownames) && resp > 0L) {\n .         lhs <- variables[[resp]]\n .         rownames <- if (is.matrix(lhs)) \n .             rownames(lhs)\n .         else names(lhs)\n .     }\n .     if (possible_newdata && length(variables)) {\n .         nr2 <- max(sapply(variables, NROW))\n .         if (nr2 != nr) \n .             warning(sprintf(paste0(ngettext(nr, \"'newdata' had %d row\", \n .                 \"'newdata' had %d rows\"), \" \", ngettext(nr2, \n .                 \"but variable found had %d row\", \"but variables found have %d rows\")), \n .                 nr, nr2), call. = FALSE, domain = NA)\n .     }\n .     if (is.null(attr(formula, \"predvars\"))) {\n .         for (i in seq_along(varnames)) predvars[[i + 1L]] <- makepredictcall(variables[[i]], \n .             vars[[i + 1L]])\n .         attr(formula, \"predvars\") <- predvars\n .     }\n .     extras <- substitute(list(...))\n .     extranames <- names(extras[-1L])\n .     extras <- eval(extras, data, env)\n .     subset <- eval(substitute(subset), data, env)\n .     data <- .External2(C_modelframe, formula, rownames, variables, \n .         varnames, extras, extranames, subset, na.action)\n .     if (length(xlev)) {\n .         for (nm in names(xlev)) if (!is.null(xl <- xlev[[nm]])) {\n .             xi <- data[[nm]]\n .             if (is.character(xi)) \n .                 xi <- as.factor(xi)\n .             if (!is.factor(xi) || is.null(nxl <- levels(xi))) \n .                 warning(gettextf(\"variable '%s' is not a factor\", \n .                   nm), domain = NA)\n .             else {\n .                 ctr <- attr(xi, \"contrasts\")\n .                 xi <- xi[, drop = TRUE]\n .                 nxl <- levels(xi)\n .                 if (any(m <- is.na(match(nxl, xl)))) \n .                   stop(sprintf(ngettext(length(m), \"factor %s has new level %s\", \n .                     \"factor %s has new levels %s\"), nm, paste(nxl[m], \n .                     collapse = \", \")), domain = NA)\n .                 data[[nm]] <- factor(xi, levels = xl, exclude = NULL)\n .                 if (!identical(attr(data[[nm]], \"contrasts\"), \n .                   ctr)) \n .                   warning(gettextf(\"contrasts dropped from factor %s\", \n .                     nm), call. = FALSE, domain = NA)\n .             }\n .         }\n .     }\n .     else if (drop.unused.levels) {\n .         for (nm in names(data)) {\n .             x <- data[[nm]]\n .             if (is.factor(x) && length(unique(x[!is.na(x)])) < \n .                 length(levels(x))) {\n .                 ctr <- attr(x, \"contrasts\")\n .                 data[[nm]] <- x[, drop = TRUE]\n .                 if (!identical(attr(data[[nm]], \"contrasts\"), \n .                   ctr)) \n .                   warning(gettextf(\"contrasts dropped from factor %s due to missing levels\", \n .                     nm), domain = NA, call. = FALSE)\n .             }\n .         }\n .     }\n .     attr(formula, \"dataClasses\") <- vapply(data, .MFclass, \"\")\n .     attr(data, \"terms\") <- formula\n .     data\n . })(formula = fitted(m1) ~ x, na.action = NULL)"
     ]
    },
    {
     "data": {
      "image/png": "[encoded data removed]",
      "text/plain": [
       "plot without title"
      ]
     },
     "metadata": {
      "image/png": {
       "height": 420,
       "width": 420
      }
     },
     "output_type": "display_data"
    }
   ],
   "source": [
    "set.seed(1334)\n",
    "x = seq(0, 1, length = 1000)\n",
    "p <- 0.4\n",
    "y <- sin(2 * pi * p * x) + rnorm(1000) * 0.1\n",
    "plot(y ~ x, cex = .2, col = \"grey\")\n",
    "\n",
    "m3 <- gamlss(y ~ pbm(x), trace = FALSE)\n",
    "lines(fitted(m1) ~ x, col = \"red\")\n",
    "yy <- -y\n",
    "plot(yy ~ pbm(x), cex = .2, col = \"grey\")\n",
    "\n",
    "m4 <- gamlss(yy ~ pbm(x, mono = \"down\"), trace = FALSE)\n",
    "lines(fitted(m2) ~ x, col = \"red\")"
   ]
  },
  {
   "cell_type": "markdown",
   "metadata": {},
   "source": []
  },
  {
   "cell_type": "markdown",
   "metadata": {},
   "source": [
    "## pbc()\n",
    "\n",
    "two ends of the fitted smooth functions have identical value.\n"
   ]
  },
  {
   "cell_type": "markdown",
   "metadata": {},
   "source": [
    "## CS ()"
   ]
  },
  {
   "cell_type": "code",
   "execution_count": 6,
   "metadata": {
    "vscode": {
     "languageId": "r"
    }
   },
   "outputs": [
    {
     "ename": "ERROR",
     "evalue": "Error in parse(text = x, srcfile = src): <text>:13:7: unexpected symbol\n12: lines(fitted(m2)~x, col= \"red\")\n13: pbc() two\n          ^\n",
     "output_type": "error",
     "traceback": [
      "Error in parse(text = x, srcfile = src): <text>:13:7: unexpected symbol\n12: lines(fitted(m2)~x, col= \"red\")\n13: pbc() two\n          ^\nTraceback:\n"
     ]
    }
   ],
   "source": [
    "rcs1 <- gamlss(R ~ cs(Fl) + cs(A), data = rent, family = GA, trace = FALSE)\n",
    "term.plot(rcs1)\n"
   ]
  },
  {
   "cell_type": "code",
   "execution_count": null,
   "metadata": {
    "vscode": {
     "languageId": "r"
    }
   },
   "outputs": [],
   "source": []
  },
  {
   "cell_type": "markdown",
   "metadata": {},
   "source": [
    "## ri()\n"
   ]
  },
  {
   "cell_type": "code",
   "execution_count": 9,
   "metadata": {
    "vscode": {
     "languageId": "r"
    }
   },
   "outputs": [
    {
     "ename": "ERROR",
     "evalue": "Error in parse(text = x, srcfile = src): <text>:9:85: unexpected symbol\n8: # the thicker the line the bigger value. Negative coefficient grey, positive coefficient black.\n9: mNN <- gamlss(R~nn(~Fl + A, size=5, decay=0.01), data=rent, family=GA, trace=FALSE) TR\n                                                                                       ^\n",
     "output_type": "error",
     "traceback": [
      "Error in parse(text = x, srcfile = src): <text>:9:85: unexpected symbol\n8: # the thicker the line the bigger value. Negative coefficient grey, positive coefficient black.\n9: mNN <- gamlss(R~nn(~Fl + A, size=5, decay=0.01), data=rent, family=GA, trace=FALSE) TR\n                                                                                       ^\nTraceback:\n"
     ]
    }
   ],
   "source": [
    "X <- with(usair, cbind(x1, x2, x3, x4, x5, x6))\n",
    "sX <- scale(X)\n",
    "m5 <- gamlss(y~sX, data= usair, trace= FALSE)\n",
    "m6 <- gamlss(y~ri(sX), data= usair) #ridge\n",
    "m7 <- gamlss(y~ri(sX, Lp=1), data= usair) #lasso"
   ]
  },
  {
   "cell_type": "markdown",
   "metadata": {},
   "source": [
    "## PVC"
   ]
  },
  {
   "cell_type": "code",
   "execution_count": 10,
   "metadata": {
    "vscode": {
     "languageId": "r"
    }
   },
   "outputs": [
    {
     "ename": "ERROR",
     "evalue": "Error in parse(text = x, srcfile = src): <text>:4:85: unexpected symbol\n3: # the thicker the line the bigger value. Negative coefficient grey, positive coefficient black.\n4: mNN <- gamlss(R~nn(~Fl + A, size=5, decay=0.01), data=rent, family=GA, trace=FALSE) TR\n                                                                                       ^\n",
     "output_type": "error",
     "traceback": [
      "Error in parse(text = x, srcfile = src): <text>:4:85: unexpected symbol\n3: # the thicker the line the bigger value. Negative coefficient grey, positive coefficient black.\n4: mNN <- gamlss(R~nn(~Fl + A, size=5, decay=0.01), data=rent, family=GA, trace=FALSE) TR\n                                                                                       ^\nTraceback:\n"
     ]
    }
   ],
   "source": [
    "# varying coefficient model \n",
    "mpvc <- gamlss(R ~ pb(Fl) + pb(A) + pvc(Fl, by=A), data = rent, family = GA, trace=FALSE)"
   ]
  },
  {
   "cell_type": "markdown",
   "metadata": {},
   "source": [
    "## NN"
   ]
  },
  {
   "cell_type": "code",
   "execution_count": null,
   "metadata": {
    "vscode": {
     "languageId": "r"
    }
   },
   "outputs": [],
   "source": [
    "# the thicker the line the bigger value. Negative coefficient grey, positive coefficient black.\n",
    "mNN <- gamlss(R~nn(~Fl + A, size=5, decay=0.01), data=rent, family=GA, trace=FALSE)"
   ]
  },
  {
   "cell_type": "markdown",
   "metadata": {},
   "source": [
    "## TR"
   ]
  },
  {
   "cell_type": "code",
   "execution_count": 11,
   "metadata": {
    "vscode": {
     "languageId": "r"
    }
   },
   "outputs": [
    {
     "ename": "ERROR",
     "evalue": "Error in tr(~Fl + A + H + B + loc): could not find function \"tr\"\n",
     "output_type": "error",
     "traceback": [
      "Error in tr(~Fl + A + H + B + loc): could not find function \"tr\"\nTraceback:\n",
      "1. gamlss(R ~ tr(~Fl + A + H + B + loc), data = rent, family = GA, \n .     gd.tol = 100)",
      "2. eval(mcall, sys.parent())",
      "3. eval(mcall, sys.parent())",
      "4. model.frame(formula = R ~ tr(~Fl + A + H + B + loc), data = rent)",
      "5. model.frame.default(formula = R ~ tr(~Fl + A + H + B + loc), \n .     data = rent)",
      "6. eval(predvars, data, env)",
      "7. eval(predvars, data, env)"
     ]
    }
   ],
   "source": [
    "mTR <- gamlss(R ~ tr(~Fl + A + H + B + loc), data = rent, family = GA, gd.tol = 100)"
   ]
  },
  {
   "cell_type": "code",
   "execution_count": null,
   "metadata": {
    "vscode": {
     "languageId": "r"
    }
   },
   "outputs": [],
   "source": []
  }
 ],
 "metadata": {
  "kernelspec": {
   "display_name": "R",
   "language": "R",
   "name": "ir"
  },
  "language_info": {
   "codemirror_mode": "r",
   "file_extension": ".r",
   "mimetype": "text/x-r-source",
   "name": "R",
   "pygments_lexer": "r",
   "version": "4.3.2"
  }
 },
 "nbformat": 4,
 "nbformat_minor": 2
}
