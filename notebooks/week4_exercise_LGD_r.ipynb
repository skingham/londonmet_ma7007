{
 "cells": [
  {
   "cell_type": "markdown",
   "id": "bb1c0ee2-be06-48b1-9b82-c61ef1c706ca",
   "metadata": {},
   "source": [
    "# Exercise_LGD_R.R\n",
    "\n",
    "The R script provided performs various statistical analyses on loan data, focusing on the Loss Given Default (LGD) variable. LGD represents the loss severity in the event of default, a critical component in credit risk modeling. Here's a breakdown of the key operations performed in the script:\n",
    "\n",
    "1. **Data Loading and Inspection**:\n",
    "   - The script starts by loading a CSV file named `RECOV.csv` into a dataframe called `data`. This file presumably contains recovery data related to loans.\n",
    "   - It then examines the structure of the data by displaying dimensions, column names, and the first few rows.\n",
    "   - A histogram of the `LGD` variable is created, although there's a reference to a color `bluemono` that is not predefined in the script, indicating a potential error or missing code for color definition.\n",
    "\n",
    "2. **Data Preparation (Commented Out)**:\n",
    "   - There are commented-out lines that seem to indicate an initial intention to filter the `LGD` values to be between 0 and 1 and to define new family distributions, but these lines are not executed.\n",
    "\n",
    "3. **Model Fitting**:\n",
    "   - The script fits four different models to the `LGD` data with respect to an explanatory variable `HRATE` (possibly a hazard rate or interest rate):\n",
    "     - **Model 0 (`m0`)**: A simple Generalized Linear Model (GLM) assuming a Gaussian (normal) distribution.\n",
    "     - **Model 2 (`m2`)**: A GAMLSS model using the `BEINF()` family, which allows for the modeling of data with boundaries at 0 and 1 (Beta inflated distribution). This model also allows the variance (`sigma`), skewness (`nu`), and kurtosis (`tau`) parameters to vary with `HRATE`.\n",
    "     - **Model 3 (`m3`)**: Similar to `m2`, but it employs penalized B-splines (`pb()`) for non-linear effects of `HRATE` on all distribution parameters, aiming to capture more complex relationships.\n",
    "   - An attempt to fit a logistic regression is commented out, which suggests an initial consideration to recode `LGD` into categorical outcomes (0, 1, 2) and fit a multinomial model (`MULTIN()` family in GAMLSS).\n",
    "\n",
    "4. **Model Evaluation**:\n",
    "   - The script plots the fitted models (`m0`, `m1`, `m2`, `m3`) to visually assess their fit. However, `m1` is mentioned without being defined earlier in the script, indicating either an error or that part of the code might have been removed or commented out.\n",
    "\n",
    "This script demonstrates an approach to analyzing LGD data using both simple and complex modeling techniques to understand the relationship between LGD and other variables (like `HRATE`). The use of GAMLSS for fitting distributions that are bounded at 0 and 1, and the exploration of non-linear effects with penalized B-splines, are advanced techniques suitable for financial data with complex underlying patterns."
   ]
  },
  {
   "cell_type": "code",
   "execution_count": null,
   "id": "0f6b8e57-1ac4-4fcb-8d34-3f93ea7a4886",
   "metadata": {
    "vscode": {
     "languageId": "r"
    }
   },
   "outputs": [],
   "source": [
    "library(gam)\n",
    "library(gamlss)"
   ]
  },
  {
   "cell_type": "code",
   "execution_count": null,
   "id": "1dcc192b-d917-4ea0-808a-1bfa2211aa76",
   "metadata": {
    "vscode": {
     "languageId": "r"
    }
   },
   "outputs": [],
   "source": [
    "data<-read.csv(file=\"../data/RECOV.csv\", header = TRUE, sep = ',')\n",
    "\n",
    "dim(data)\n",
    "names(data)\n",
    "head(data)\n",
    "hist(data$LGD, breaks = 100, col=blues9)\n",
    "#data$LGD <- data[data$LGD > 0 & data$LGD < 1]"
   ]
  },
  {
   "cell_type": "markdown",
   "id": "43c9cb51-49af-49e1-a032-e2e312eb3190",
   "metadata": {},
   "source": []
  },
  {
   "cell_type": "code",
   "execution_count": null,
   "id": "c9d21d03-77fd-41f5-9eb1-4c34ad822a76",
   "metadata": {
    "vscode": {
     "languageId": "r"
    }
   },
   "outputs": [],
   "source": [
    "#gen.Family(\"BSSN\", \"logit\")\n",
    "#gen.Inf0to1(\"logitBSSN\",\"Zero&One\")\n",
    "\n",
    "k1 <-6\n",
    "\n",
    "m0 <- glm(LGD~HRATE, family= gaussian, data= data)\n",
    "\n",
    "m2<-gamlss(LGD~HRATE, sigma.formula =~ HRATE, \n",
    "           nu.formula =~ HRATE, tau.formula =~ HRATE, family = BEINF(), \n",
    "           data=data);\n",
    "\n",
    "m3 <- gamlss(data$LGD~pb(data$HRATE,method=\"GAIC\", k=k1),\n",
    "                    sigma.formula=~pb(data$HRATE,method=\"GAIC\", k=k1),\n",
    "                    nu.formula=~pb(data$HRATE,method=\"GAIC\", k=k1),\n",
    "                    tau.formula=~pb(data$HRATE,method=\"GAIC\", k=k1),\n",
    "                    family=BEINF,\n",
    "                    trace = TRUE);\n",
    "\n",
    "# fitting a logistic regression:\n",
    "data$LGD[data$LGD==0] <- 0\n",
    "data$LGD[data$LGD==1] <- 1\n",
    "data$LGD[0<data$LGD & data$LGD< 1] <- 2\n",
    "data$LGD = as.factor(data$LGD);\n",
    "\n",
    "m1<- gamlss(LGD ~ HRATE, sigma.formula = ~HRATE, family = MULTIN(), data = data);"
   ]
  },
  {
   "cell_type": "code",
   "execution_count": null,
   "id": "4915bbfc-7803-4c82-a608-db2694d61bc6",
   "metadata": {
    "vscode": {
     "languageId": "r"
    }
   },
   "outputs": [],
   "source": [
    "GAIC(m1, m2, m3)"
   ]
  },
  {
   "cell_type": "markdown",
   "id": "2d45467c-b7c5-4708-aff9-98f6dc4d17bd",
   "metadata": {},
   "source": []
  },
  {
   "cell_type": "code",
   "execution_count": null,
   "id": "7fad5e74-b2ec-4f57-8f24-ee764f5bd3d4",
   "metadata": {
    "vscode": {
     "languageId": "r"
    }
   },
   "outputs": [],
   "source": [
    "plot(m0)"
   ]
  },
  {
   "cell_type": "code",
   "execution_count": null,
   "id": "106fed59-6097-4688-a7e0-4bacac3f668f",
   "metadata": {
    "vscode": {
     "languageId": "r"
    }
   },
   "outputs": [],
   "source": [
    "plot(m1)"
   ]
  },
  {
   "cell_type": "code",
   "execution_count": null,
   "id": "1e7f0f81-8247-47a1-9239-c519b494eef4",
   "metadata": {
    "vscode": {
     "languageId": "r"
    }
   },
   "outputs": [],
   "source": [
    "plot(m2)"
   ]
  },
  {
   "cell_type": "code",
   "execution_count": null,
   "id": "127b456c-7bdb-49cc-a97a-3c2c8a2b3a2a",
   "metadata": {
    "vscode": {
     "languageId": "r"
    }
   },
   "outputs": [],
   "source": [
    "plot(m3)"
   ]
  }
 ],
 "metadata": {
  "kernelspec": {
   "display_name": "R",
   "language": "R",
   "name": "ir"
  },
  "language_info": {
   "codemirror_mode": "r",
   "file_extension": ".r",
   "mimetype": "text/x-r-source",
   "name": "R",
   "pygments_lexer": "r",
   "version": "4.3.2"
  }
 },
 "nbformat": 4,
 "nbformat_minor": 5
}
