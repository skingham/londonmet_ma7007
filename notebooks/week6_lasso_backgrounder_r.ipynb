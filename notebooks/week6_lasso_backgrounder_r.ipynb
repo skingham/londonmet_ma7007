{
 "cells": [
  {
   "cell_type": "markdown",
   "metadata": {},
   "source": [
    "The LASSO (Least Absolute Shrinkage and Selection Operator) method, introduced by Robert Tibshirani in 1996, is a regression analysis technique that performs both variable selection and regularization in order to enhance the prediction accuracy and interpretability of the statistical model it produces. Unlike traditional regression methods that minimize a sum of squared errors, LASSO aims to minimize the residual sum of squares subject to the sum of the absolute values of the coefficients being less than a constant. This constraint causes some of the coefficient estimates to be exactly zero, which is equivalent to excluding those variables from the model. Here's an overview of LASSO and guidance on when it should be used:\n",
    "\n",
    "### Overview of LASSO\n",
    "\n",
    "- **Objective**: LASSO seeks to solve the problem:\n",
    "\n",
    "  \\[\n",
    "  \\min_{\\beta} \\left\\{ \\frac{1}{2N} \\sum_{i=1}^{N} (y_i - \\beta_0 - \\sum_{j=1}^{p} \\beta_j x_{ij})^2 + \\lambda \\sum_{j=1}^{p} |\\beta_j| \\right\\}\n",
    "  \\]\n",
    "\n",
    "  where \\(y_i\\) are the responses, \\(x_{ij}\\) are the predictors, \\(\\beta_j\\) are the coefficients to be estimated, \\(\\lambda\\) is a tuning parameter that controls the amount of shrinkage applied to the coefficients, \\(N\\) is the number of observations, and \\(p\\) is the number of predictors.\n",
    "\n",
    "- **Shrinkage and Selection**: The inclusion of the \\(\\lambda \\sum_{j=1}^{p} |\\beta_j|\\) term (the L1 penalty) both shrinks the size of the coefficients and can set some of them to zero. This dual functionality helps in handling models with high dimensionality or when multicollinearity is present among predictor variables.\n",
    "\n",
    "- **Tuning Parameter (\\(\\lambda\\))**: The choice of \\(\\lambda\\) is crucial. As \\(\\lambda\\) increases, more coefficients are set to zero, leading to simpler models. The optimal \\(\\lambda\\) is often selected via cross-validation.\n",
    "\n",
    "- **Sparse Models**: By setting some coefficients to zero, LASSO produces sparse models that can be easier to interpret and can reveal the most important predictors of the response variable.\n",
    "\n",
    "### When to Use LASSO\n",
    "\n",
    "1. **High Dimensionality**: LASSO is particularly useful when you have more variables than observations (p > n) or when the dataset is large, and you want to avoid overfitting. It helps in selecting a subset of variables by shrinking the less important ones to zero.\n",
    "\n",
    "2. **Model Selection**: When you are uncertain which predictors are relevant and you wish to perform variable selection as part of the model fitting process, LASSO can automatically select important variables, simplifying the model.\n",
    "\n",
    "3. **Multicollinearity**: LASSO can handle multicollinearity between predictors by selecting one variable from a group of highly correlated variables, which might be preferable in some contexts for the sake of model simplicity and interpretation.\n",
    "\n",
    "4. **Interpretability**: If the goal is to produce a model that is easy to interpret, LASSO's ability to produce simpler models (by excluding irrelevant predictors) can be very attractive.\n",
    "\n",
    "5. **Prediction Accuracy**: When the primary goal is prediction and the underlying true model is believed to be sparse (i.e., only a small number of predictors actually influence the response), LASSO can improve prediction accuracy by excluding irrelevant variables.\n",
    "\n",
    "### Limitations\n",
    "\n",
    "While LASSO is a powerful tool, it has its limitations. For instance, when there are groups of highly correlated variables, LASSO tends to select one variable from a group and ignore the others, which might not be ideal for all applications. Additionally, if the number of predictors greatly exceeds the number of observations, LASSO might select at most n variables before it saturates, because of the nature of the L1 penalty.\n",
    "\n",
    "In summary, LASSO is a versatile method that is useful for both variable selection and regularization, making it ideal for high-dimensional data analysis. However, the choice to use LASSO should be informed by the specific goals of the analysis and the characteristics of the data."
   ]
  },
  {
   "cell_type": "markdown",
   "metadata": {},
   "source": [
    "Certainly! Below is a simple example of how to use LASSO regression in R with the `glmnet` package, which is a popular tool for fitting generalized linear models via penalized maximum likelihood. The example will cover generating some synthetic data, fitting a LASSO model, and then selecting the best lambda value using cross-validation.\n",
    "\n",
    "### Step 1: Install and Load the `glmnet` Package\n",
    "\n",
    "If you haven't already installed the `glmnet` package, you can do so by running:\n",
    "\n",
    "```r\n",
    "install.packages(\"glmnet\")\n",
    "```\n",
    "\n",
    "Then, load the package with:"
   ]
  },
  {
   "cell_type": "code",
   "execution_count": null,
   "metadata": {
    "vscode": {
     "languageId": "r"
    }
   },
   "outputs": [],
   "source": [
    "library(glmnet)"
   ]
  },
  {
   "cell_type": "markdown",
   "metadata": {},
   "source": [
    "### Step 2: Generate Synthetic Data\n",
    "\n",
    "For this example, we'll create a synthetic dataset where the response variable (`y`) has a linear relationship with some of the predictor variables."
   ]
  },
  {
   "cell_type": "code",
   "execution_count": null,
   "metadata": {
    "vscode": {
     "languageId": "r"
    }
   },
   "outputs": [],
   "source": [
    "set.seed(123) # For reproducibility\n",
    "n <- 100 # Number of observations\n",
    "p <- 20  # Number of predictors\n",
    "\n",
    "X <- matrix(rnorm(n * p), n, p) # Predictor matrix\n",
    "beta <- c(1, 2, -1.5, rep(0, p-3)) # True coefficients\n",
    "y <- X %*% beta + rnorm(n) # Generate response"
   ]
  },
  {
   "cell_type": "markdown",
   "metadata": {},
   "source": [
    "In this synthetic dataset, only the first three predictors have a non-zero relationship with the response variable `y`.\n",
    "\n",
    "### Step 3: Fit a LASSO Model\n",
    "\n",
    "To fit a LASSO model, we use the `glmnet` function. Note that `glmnet` expects the predictor matrix to be in a specific format (`matrix`) and does not automatically include an intercept term (it's handled internally)."
   ]
  },
  {
   "cell_type": "code",
   "execution_count": null,
   "metadata": {
    "vscode": {
     "languageId": "r"
    }
   },
   "outputs": [],
   "source": [
    "lasso_model <- glmnet(X, y, alpha = 1) # alpha = 1 indicates LASSO"
   ]
  },
  {
   "cell_type": "markdown",
   "metadata": {},
   "source": [
    "### Step 4: Cross-validation to Select Lambda\n",
    "\n",
    "The `cv.glmnet` function performs cross-validation to select the optimal value of lambda that minimizes the cross-validation error."
   ]
  },
  {
   "cell_type": "code",
   "execution_count": null,
   "metadata": {
    "vscode": {
     "languageId": "r"
    }
   },
   "outputs": [],
   "source": [
    "cv_model <- cv.glmnet(X, y, alpha = 1)"
   ]
  },
  {
   "cell_type": "markdown",
   "metadata": {},
   "source": [
    "Plot the cross-validation results to see how the mean squared error varies with different lambda values:"
   ]
  },
  {
   "cell_type": "code",
   "execution_count": null,
   "metadata": {
    "vscode": {
     "languageId": "r"
    }
   },
   "outputs": [],
   "source": [
    "plot(cv_model)"
   ]
  },
  {
   "cell_type": "markdown",
   "metadata": {},
   "source": [
    "### Step 5: Extract the Best Model\n",
    "\n",
    "You can extract the coefficients of the model that corresponds to the best lambda (`lambda.min`) or the one within one standard error of the minimum (`lambda.1se`), which is often preferred for its simplicity."
   ]
  },
  {
   "cell_type": "code",
   "execution_count": null,
   "metadata": {
    "vscode": {
     "languageId": "r"
    }
   },
   "outputs": [],
   "source": [
    "# Coefficients at the lambda that gives minimum cross-validated error\n",
    "coef(cv_model, s = \"lambda.min\")\n",
    "\n",
    "# Coefficients at the lambda within one standard error of the minimum\n",
    "coef(cv_model, s = \"lambda.1se\")"
   ]
  },
  {
   "cell_type": "markdown",
   "metadata": {},
   "source": [
    "### Step 6: Make Predictions\n",
    "\n",
    "Finally, you can use the selected model to make predictions on new data. Here, for demonstration, we'll use the original dataset `X`."
   ]
  },
  {
   "cell_type": "code",
   "execution_count": null,
   "metadata": {
    "vscode": {
     "languageId": "r"
    }
   },
   "outputs": [],
   "source": [
    "predictions <- predict(cv_model, newx = X, s = \"lambda.min\")"
   ]
  },
  {
   "cell_type": "markdown",
   "metadata": {},
   "source": [
    "This example illustrates the basic workflow for fitting a LASSO model in R, selecting an optimal lambda through cross-validation, and making predictions. The LASSO method is powerful for models where variable selection and regularization are necessary, especially when dealing with high-dimensional data or when you suspect that only a subset of predictors are truly important."
   ]
  },
  {
   "cell_type": "markdown",
   "metadata": {},
   "source": [
    "The bias-variance trade-off is a fundamental concept in statistical learning that describes the trade-off between the model's ability to minimize errors on the training data (bias) and its capacity to generalize well to unseen data (variance). LASSO (Least Absolute Shrinkage and Selection Operator) regression, by incorporating a penalty on the size of coefficients, directly engages with this trade-off. Here's how the bias-variance trade-off applies to LASSO and how you can use it:\n",
    "\n",
    "### LASSO's Role in Bias-Variance Trade-off\n",
    "\n",
    "1. **Bias**: Bias refers to the error introduced by approximating the real-world problem, which might be complex, by a much simpler model. High bias can cause the model to miss relevant relations between features and target outputs (underfitting). LASSO introduces bias to the model by shrinking the regression coefficients towards zero. This simplification means the model might not fit the training data as well as a non-regularized regression would, increasing the bias.\n",
    "\n",
    "2. **Variance**: Variance refers to the model's sensitivity to the specific sets of training data. High variance can cause the model to model the random noise in the training data, rather than the intended outputs (overfitting). LASSO helps reduce variance by penalizing the sum of the absolute values of the coefficients, effectively limiting the model's complexity. This can lead to some coefficients being exactly zero, which simplifies the model and makes it less sensitive to fluctuations in the training data.\n",
    "\n",
    "3. **Trade-off**: The LASSO method uses a tuning parameter (\\(\\lambda\\)) to balance the bias and variance. When \\(\\lambda\\) is zero, LASSO regression equals linear regression, leading to low bias but potentially high variance. As \\(\\lambda\\) increases, more coefficients are shrunk towards zero, increasing bias but decreasing variance. The key is to find the optimal \\(\\lambda\\) that minimizes the total error (the sum of bias squared, variance, and irreducible error).\n",
    "\n",
    "### Using the Bias-Variance Trade-off with LASSO\n",
    "\n",
    "To effectively use LASSO while considering the bias-variance trade-off, you typically follow these steps:\n",
    "\n",
    "1. **Cross-Validation**: Use cross-validation to find the optimal value of \\(\\lambda\\). The `cv.glmnet` function in the `glmnet` package automatically performs k-fold cross-validation (typically, k=10) and selects the \\(\\lambda\\) that minimizes the cross-validation error. This process helps in identifying a \\(\\lambda\\) that achieves a good balance between bias and variance.\n",
    "\n",
    "2. **Evaluate Model Complexity**: Start with a model that includes all potential predictors. As \\(\\lambda\\) increases, observe which coefficients are driven to zero and removed from the model (increasing bias but potentially decreasing variance). The path of coefficients to zero can be visualized using the `plot` function on a `cv.glmnet` object, which shows how each coefficient is affected by different values of \\(\\lambda\\).\n",
    "\n",
    "3. **Model Selection**: After identifying the optimal \\(\\lambda\\) through cross-validation, refit the LASSO model using this value. The selected model should, ideally, strike a balance between underfitting (high bias) and overfitting (high variance), leading to better generalization to new data.\n",
    "\n",
    "In summary, the bias-variance trade-off is a crucial consideration when using LASSO. By carefully choosing the tuning parameter \\(\\lambda\\), you can manage the trade-off between making the model simple enough to generalize well (but not too simple that it misses important relationships) and complex enough to capture the underlying patterns in the data (but not so complex that it captures noise)."
   ]
  }
 ],
 "metadata": {
  "kernelspec": {
   "display_name": "R",
   "language": "R",
   "name": "ir"
  },
  "language_info": {
   "codemirror_mode": "r",
   "file_extension": ".r",
   "mimetype": "text/x-r-source",
   "name": "R",
   "pygments_lexer": "r",
   "version": "4.3.2"
  }
 },
 "nbformat": 4,
 "nbformat_minor": 2
}
