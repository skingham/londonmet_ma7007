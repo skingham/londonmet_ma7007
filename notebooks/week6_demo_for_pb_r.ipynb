{
 "cells": [
  {
   "cell_type": "markdown",
   "metadata": {},
   "source": [
    "Overall, this script is a comprehensive demonstration of spline-based smoothing techniques in regression analysis, emphasizing the flexibility and power of penalized splines (P-splines) in fitting complex data patterns within the GAMLSS framework.\n",
    "\n",
    "## Function Definition for B-spline Basis (Bbase)\n",
    "\n",
    "The script starts with defining a custom function Bbase that creates a B-spline basis for given input data. It calculates B-spline basis functions based on specified parameters such as the number of divisions (ndx), degree of the polynomial (deg), and the data range. This basis is useful for smooth curve fitting in regression analysis."
   ]
  },
  {
   "cell_type": "code",
   "execution_count": null,
   "metadata": {
    "vscode": {
     "languageId": "r"
    }
   },
   "outputs": [],
   "source": [
    "rm(list = ls())\n",
    "##################################################################\n",
    "##################################################################\n",
    "# Function creating the B basis\n",
    "Bbase <- function(x, ndx = 20, deg = 3) {\n",
    "    tpower <- function(x, t, p) {\n",
    "        (x - t)^p * (x > t)\n",
    "    }\n",
    "    xl <- min(x, na.rm = TRUE)\n",
    "    xr <- max(x, na.rm = TRUE)\n",
    "    xmin <- xl - 0.01 * (xr - xl)\n",
    "    xmax <- xr + 0.01 * (xr - xl)\n",
    "    dx <- (xmax - xmin) / ndx # DS increment\n",
    "    knots <- seq(xmin - deg * dx, xmax + deg * dx, by = dx)\n",
    "    P <- outer(x, knots, tpower, deg) # calculate the power in the knots\n",
    "    n <- dim(P)[2]\n",
    "    D <- diff(diag(n), diff = deg + 1) / (gamma(deg + 1) * dx^deg) #\n",
    "    B <- (-1)^(deg + 1) * P %*% t(D)\n",
    "    attr(B, \"knots\") <- knots[-c(1:(deg - 1), (n - (deg - 2)):n)]\n",
    "    B\n",
    "}"
   ]
  },
  {
   "cell_type": "markdown",
   "metadata": {},
   "source": [
    "## Penalty Matrices Generation\n",
    "\n",
    "Next, it generates penalty matrices for first-order (D1) and second-order (D2) differences, used in penalized regression to control the smoothness of the fitted spline. The penalty matrices G1 and G2 are computed as the transpose of D1 and D2 multiplied by themselves, respectively. These matrices are instrumental in constructing penalties for the roughness of the spline fit."
   ]
  },
  {
   "cell_type": "code",
   "execution_count": null,
   "metadata": {
    "vscode": {
     "languageId": "r"
    }
   },
   "outputs": [],
   "source": [
    "#################################################################\n",
    "#################################################################\n",
    "#################################################################\n",
    "# Showing how to generate the penalty matrices\n",
    "#################################################################\n",
    "# order=1\n",
    "D1 <- diff(diag(10), diff=1)\n",
    "D1\n",
    "# order=2\n",
    "D2 <- diff(diag(10), diff=2)\n",
    "D2\n",
    "G1 <- t(D1)%*%D1\n",
    "G1\n",
    "G2 <- t(D2)%*%D2\n",
    "G2"
   ]
  },
  {
   "cell_type": "markdown",
   "metadata": {},
   "source": [
    "## Data Generation\n",
    "\n",
    "The script simulates a dataset where y is a function of x with added Gaussian noise. This synthetic data is visualized using a basic scatter plot."
   ]
  },
  {
   "cell_type": "code",
   "execution_count": null,
   "metadata": {
    "vscode": {
     "languageId": "r"
    }
   },
   "outputs": [],
   "source": [
    "#################################################################\n",
    "#################################################################\n",
    "#################################################################\n",
    "# generating the data\n",
    "################################################################\n",
    "################################################################\n",
    "n <- 500\n",
    "x <- seq(0, 1, length = n)*1.4\n",
    "set.seed(123)\n",
    "y <- 1.2 + .3*sin(5  * x) + rnorm(n) * 0.2\n",
    "plot(y~x)"
   ]
  },
  {
   "cell_type": "markdown",
   "metadata": {},
   "source": [
    "## Model Fitting with GAMLSS\n",
    "\n",
    "It fits generalized additive models using the gamlss package, with pb(x) indicating penalized B-splines. The script fits models to the synthetic data, incorporating smoothing splines and penalization to control for overfitting."
   ]
  },
  {
   "cell_type": "code",
   "execution_count": null,
   "metadata": {
    "vscode": {
     "languageId": "r"
    }
   },
   "outputs": [],
   "source": [
    "###############################################################\n",
    "###############################################################\n",
    "# fitting the model\n",
    "# fit the penalise least squares\n",
    "library(gamlss)\n",
    "m1 <- gamlss(y~pb(x))\n",
    "# the knots \n",
    "pbKnots <- getSmo(m1)$knots\n",
    "length(pbKnots)\n",
    "# get the x's and cut than in equal space\n",
    "plot(y~x, pch=20)\n",
    "abline(v=getSmo(m1)$knots, col=\"gray\")\n",
    "length(getSmo(m1)$knots)"
   ]
  },
  {
   "cell_type": "markdown",
   "metadata": {},
   "source": [
    "## Visualization and Basis Creation\n",
    "\n",
    "Several plots are created to visualize the fitted models, the effect of penalization, and the underlying B-spline basis functions. These visualizations help in understanding the model fit and the influence of the smoothing parameter."
   ]
  },
  {
   "cell_type": "code",
   "execution_count": null,
   "metadata": {
    "vscode": {
     "languageId": "r"
    }
   },
   "outputs": [],
   "source": [
    "###############################################################\n",
    "###############################################################\n",
    "# create the basis for x\n",
    "B <- Bbase(x)\n",
    "dim(B)\n",
    "#cbind(attr(B, \"knots\"),getSmo(m1)$knots)\n",
    "# B basis\n",
    "matplot(x,B, type=\"l\", col=\"black\")\n",
    "abline(v=getSmo(m1)$knots, col=\"gray\")\n",
    "# The fitted values is the B multiplied by gamma's\n",
    "# The fitted coefficients   \n",
    "plot(getSmo(m1)$coef)\n",
    "###############################################################\n",
    "###############################################################\n",
    "plot(y~x, ylim=c(0,max(y)), pch=20) \n",
    "abline(v=getSmo(m1)$knots, col=gray(.9))\n",
    "matplot(x,B, type=\"l\", col=\"gray\",lty=1,  add=T)\n",
    "lines(fitted(m1)~x, lwd=2, col=\"blue\")"
   ]
  },
  {
   "cell_type": "markdown",
   "metadata": {},
   "source": [
    "## Smoothing Matrix and Degrees of Freedom\n",
    "\n",
    "The script calculates a smoothing matrix S and estimates the degrees of freedom of the fit. This part demonstrates how to apply smoothing directly using the B-spline basis and penalty matrices, offering insights into the smoothness and flexibility of the model."
   ]
  },
  {
   "cell_type": "code",
   "execution_count": null,
   "metadata": {
    "vscode": {
     "languageId": "r"
    }
   },
   "outputs": [],
   "source": [
    "##############################################################\n",
    "##############################################################\n",
    "#\n",
    "# smoothing matrix\n",
    "plot(y~x)\n",
    "B <- Bbase(x)\n",
    "dim(B)\n",
    "attributes(B)\n",
    "D2 <- diff(diag(23), diff=2)\n",
    "dim(D2)\n",
    "G <- t(D2)%*%D2\n",
    "dim(G)\n",
    "lambda <-100\n",
    "beta <- solve(t(B)%*%B+lambda*G)%*%t(B)%*%y\n",
    "S <- B%*%solve(t(B)%*%B+lambda*G)%*%t(B) \n",
    "sum(diag(S))# gegrees of freedom \n",
    "\n",
    "plot(beta)"
   ]
  },
  {
   "cell_type": "markdown",
   "metadata": {},
   "source": [
    "## Comparison of Smoothing Parameters\n",
    "\n",
    "It explores different methods (ML, GCV, GAIC) for selecting the smoothing parameter in penalized regression models. These methods aim to balance the fit's goodness with the model's complexity, preventing overfitting while ensuring the model captures the data's underlying trend."
   ]
  },
  {
   "cell_type": "code",
   "execution_count": null,
   "metadata": {
    "vscode": {
     "languageId": "r"
    }
   },
   "outputs": [],
   "source": [
    "###############################################################\n",
    "###############################################################\n",
    "# P-SPLINES pb() selection of smoothing parameters\n",
    "###############################################################\n",
    "###############################################################\n",
    "library(gamlss)\n",
    "\n",
    "\n",
    "p1 <- gamlss(bmi~pb(age, method=\"ML\"), data=dbbmi)\n",
    "p2 <- gamlss(bmi~pb(age, method=\"GCV\") , data=dbbmi)\n",
    "p3 <- gamlss(bmi~pb(age, method=\"GAIC\", k=2) , data=dbbmi)\n",
    "p4 <- gamlss(bmi~pb(age, method=\"GAIC\", \n",
    "                    k=log(length(dbbmi$bmi))), \n",
    "             data=dbbmi)\n",
    "\n",
    "plot(bmi~age , data=dbbmi, pch=20, col=\"gray\")\n",
    "lines(fitted(p1)~dbbmi$age, col=2, lwd=2) \n",
    "lines(fitted(p2)~dbbmi$age, col=3, lwd=2) \n",
    "lines(fitted(p2)~dbbmi$age, col=3, lwd=2) \n",
    "lines(fitted(p2)~dbbmi$age, col=5, lwd=2) "
   ]
  },
  {
   "cell_type": "markdown",
   "metadata": {},
   "source": [
    "## Extensions to P-Splines and Monotonic P-Splines\n",
    "\n",
    "The script extends the analysis to P-splines with shrinkage to a constant (zpb()) and monotonic P-splines (pbm()), showcasing advanced techniques for more specific modeling needs, such as incorporating monotonicity constraints or allowing for more flexible shrinkage behavior."
   ]
  },
  {
   "cell_type": "code",
   "execution_count": null,
   "metadata": {
    "vscode": {
     "languageId": "r"
    }
   },
   "outputs": [],
   "source": [
    "###############################################################\n",
    "###############################################################\n",
    "# P-SPLINES WHICH CAN SHRINK TO A CONSTANT: zpb()\n",
    "###############################################################\n",
    "###############################################################\n",
    "data(abdom)\n",
    "# add a nuisance variable\n",
    "abdom$x1 <- rNO(610, mu=5, sigma=5)\n",
    "# fitting the original x\n",
    "m0 <- gamlss(y~pb(x), data=abdom, trace=FALSE)\n",
    "# fitting extra x1 with pb()\n",
    "m1 <- gamlss(y~pb(x)+pb(x1), data=abdom, trace=FALSE)\n",
    "# fitting extra x1 with pbz()\n",
    "m2 <- gamlss(y~pbz(x)+pbz(x1), data=abdom, trace=FALSE)\n",
    "# smaller deviance but liitle reduction in deviance\n",
    "AIC(m0,m1,m2, k=2)\n",
    "# the second term x1 is not needed but \n",
    "# m1 adds an extra degree of freedom\n",
    "###############################################################\n",
    "###############################################################\n",
    "# MONOTONIC P-SPLINES: mpb()\n",
    "###############################################################\n",
    "###############################################################\n",
    "library(gamlss)\n",
    "#   Creating the data \n",
    "set.seed(1334)\n",
    "x = seq(0, 1, length = 1000)\n",
    "p = 0.4\n",
    "y = sin(2 * pi * p * x) + rnorm(1000) * 0.1\n",
    "plot(y~x, pch=20)\n",
    "# fitting a monotonic curve going up\n",
    "m1 <- gamlss(y~pbm(x), trace=FALSE)\n",
    "plot(y~x, pch=20)\n",
    "lines(fitted(m1)~x, col=\"red\", lwd=2.5)\n",
    "# fitting a monotonic curve going down\n",
    "yy <- -y\n",
    "plot(yy~x)\n",
    "m2 <- gamlss(yy~pbm(x, mono=\"down\"), trace=FALSE)\n",
    "plot(yy~x, pch=20)\n",
    "lines(fitted(m2)~x, col=\"red\", lwd=2.5)"
   ]
  },
  {
   "cell_type": "code",
   "execution_count": null,
   "metadata": {
    "vscode": {
     "languageId": "r"
    }
   },
   "outputs": [],
   "source": [
    "\n",
    "\n",
    "\n"
   ]
  },
  {
   "cell_type": "markdown",
   "metadata": {},
   "source": [
    "## Cycling C P-Splines Visualization\n",
    "\n",
    "Lastly, it provides a function plotBS to visualize the effect of varying the number of knots in B-spline basis functions, helping to understand how the choice of knots affects the spline's smoothness and the overall fit."
   ]
  },
  {
   "cell_type": "code",
   "execution_count": null,
   "metadata": {
    "vscode": {
     "languageId": "r"
    }
   },
   "outputs": [],
   "source": [
    "###############################################################\n",
    "###############################################################\n",
    "# CYCLING C P-SPLINES\n",
    "###############################################################\n",
    "###############################################################\n",
    "###############################################################\n",
    "# plot(y~x, ylim=c(0,max(y)), pch=20) \n",
    "# #abline(v=getSmo(m1)$knots, col=gray(.9))\n",
    "# matplot(x,bs(x, 6), type=\"l\", col=\"gray\",lty=1,  add=T)\n",
    "# \n",
    "# m1 <- gamlss(y~bs(x,6))\n",
    "# lines(fitted(m1)~x, lwd=2, col=\"blue\")\n",
    "# matplot(x,bs(x))\n",
    "\n",
    "# this is for an example how bs() is working\n",
    "\n",
    "plotBS <- function(y, x, knots=6)\n",
    "{\n",
    "  plot(y~x, ylim=c(0,max(y)), pch=20, col=gray(.5)) \n",
    "  m1 <- gamlss(y~bs(x,knots), trace=F)\n",
    "  matplot(x,bs(x, knots), type=\"l\", col=\"gray\",lty=1,  add=T)\n",
    "  lines(fitted(m1)~x, lwd=2, col=\"blue\")\n",
    "}\n",
    "op <- par(mfrow=c(2,2))\n",
    "plotBS(y,x,3); title(\"(a) knots=3\")\n",
    "plotBS(y,x,7); title(\"(b) knots=7\")\n",
    "plotBS(y,x,10); title(\"(b) knots=10\")\n",
    "plotBS(y,x,20); title(\"(b) knots=20\")\n",
    "par(op)"
   ]
  }
 ],
 "metadata": {
  "kernelspec": {
   "display_name": "R",
   "language": "R",
   "name": "ir"
  },
  "language_info": {
   "codemirror_mode": "r",
   "file_extension": ".r",
   "mimetype": "text/x-r-source",
   "name": "R",
   "pygments_lexer": "r",
   "version": "4.3.2"
  }
 },
 "nbformat": 4,
 "nbformat_minor": 2
}
