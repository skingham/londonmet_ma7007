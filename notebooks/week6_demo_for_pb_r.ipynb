{
 "cells": [
  {
   "cell_type": "markdown",
   "metadata": {},
   "source": [
    "Overall, this script is a comprehensive demonstration of spline-based smoothing techniques in regression analysis, emphasizing the flexibility and power of penalized splines (P-splines) in fitting complex data patterns within the GAMLSS framework.\n",
    "\n",
    "## Function Definition for B-spline Basis (Bbase)\n",
    "\n",
    "The script starts with defining a custom function Bbase that creates a B-spline basis for given input data. It calculates B-spline basis functions based on specified parameters such as the number of divisions (ndx), degree of the polynomial (deg), and the data range. This basis is useful for smooth curve fitting in regression analysis."
   ]
  },
  {
   "cell_type": "code",
   "execution_count": 2,
   "metadata": {
    "vscode": {
     "languageId": "r"
    }
   },
   "outputs": [],
   "source": [
    "rm(list = ls())\n",
    "##################################################################\n",
    "##################################################################\n",
    "# Function creating the B basis\n",
    "Bbase <- function(x, ndx = 20, deg = 3) {\n",
    "    tpower <- function(x, t, p) {\n",
    "        (x - t)^p * (x > t)\n",
    "    }\n",
    "    xl <- min(x, na.rm = TRUE)\n",
    "    xr <- max(x, na.rm = TRUE)\n",
    "    xmin <- xl - 0.01 * (xr - xl)\n",
    "    xmax <- xr + 0.01 * (xr - xl)\n",
    "    dx <- (xmax - xmin) / ndx # DS increment\n",
    "    knots <- seq(xmin - deg * dx, xmax + deg * dx, by = dx)\n",
    "    P <- outer(x, knots, tpower, deg) # calculate the power in the knots\n",
    "    n <- dim(P)[2]\n",
    "    D <- diff(diag(n), diff = deg + 1) / (gamma(deg + 1) * dx^deg) #\n",
    "    B <- (-1)^(deg + 1) * P %*% t(D)\n",
    "    attr(B, \"knots\") <- knots[-c(1:(deg - 1), (n - (deg - 2)):n)]\n",
    "    B\n",
    "}"
   ]
  },
  {
   "cell_type": "markdown",
   "metadata": {},
   "source": [
    "\n",
    "\n",
    "## Penalty Matrices Generation\n",
    "\n",
    "    Next, it generates penalty matrices for first-order (D1) and second-order (D2) differences, used in penalized regression to control the smoothness of the fitted spline. The penalty matrices G1 and G2 are computed as the transpose of D1 and D2 multiplied by themselves, respectively. These matrices are instrumental in constructing penalties for the roughness of the spline fit.\n",
    "\n",
    "## Data Generation\n",
    "\n",
    "    The script simulates a dataset where y is a function of x with added Gaussian noise. This synthetic data is visualized using a basic scatter plot.\n",
    "\n",
    "## Model Fitting with GAMLSS\n",
    "\n",
    "    It fits generalized additive models using the gamlss package, with pb(x) indicating penalized B-splines. The script fits models to the synthetic data, incorporating smoothing splines and penalization to control for overfitting.\n",
    "\n",
    "## Visualization and Basis Creation\n",
    "\n",
    "    Several plots are created to visualize the fitted models, the effect of penalization, and the underlying B-spline basis functions. These visualizations help in understanding the model fit and the influence of the smoothing parameter.\n",
    "\n",
    "## Smoothing Matrix and Degrees of Freedom\n",
    "\n",
    "    The script calculates a smoothing matrix S and estimates the degrees of freedom of the fit. This part demonstrates how to apply smoothing directly using the B-spline basis and penalty matrices, offering insights into the smoothness and flexibility of the model.\n",
    "\n",
    "## Comparison of Smoothing Parameters\n",
    "\n",
    "    It explores different methods (ML, GCV, GAIC) for selecting the smoothing parameter in penalized regression models. These methods aim to balance the fit's goodness with the model's complexity, preventing overfitting while ensuring the model captures the data's underlying trend.\n",
    "\n",
    "## Extensions to P-Splines and Monotonic P-Splines\n",
    "\n",
    "    The script extends the analysis to P-splines with shrinkage to a constant (zpb()) and monotonic P-splines (pbm()), showcasing advanced techniques for more specific modeling needs, such as incorporating monotonicity constraints or allowing for more flexible shrinkage behavior.\n",
    "\n",
    "## Cycling C P-Splines Visualization\n",
    "\n",
    "    Lastly, it provides a function plotBS to visualize the effect of varying the number of knots in B-spline basis functions, helping to understand how the choice of knots affects the spline's smoothness and the overall fit."
   ]
  }
 ],
 "metadata": {
  "kernelspec": {
   "display_name": "R",
   "language": "R",
   "name": "ir"
  },
  "language_info": {
   "codemirror_mode": "r",
   "file_extension": ".r",
   "mimetype": "text/x-r-source",
   "name": "R",
   "pygments_lexer": "r",
   "version": "4.3.2"
  }
 },
 "nbformat": 4,
 "nbformat_minor": 2
}
