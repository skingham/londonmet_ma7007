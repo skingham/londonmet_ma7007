{
 "cells": [
  {
   "cell_type": "code",
   "execution_count": null,
   "id": "f74a3213-0a54-41cf-8d1c-dde531aecb71",
   "metadata": {
    "vscode": {
     "languageId": "r"
    }
   },
   "outputs": [],
   "source": [
    "library(gamlss)"
   ]
  },
  {
   "cell_type": "markdown",
   "id": "1b5ae814-03d8-4109-ad1d-6f0d7b3302a9",
   "metadata": {},
   "source": [
    "#  Week 4\n",
    "\n",
    "## 3 The abdom data.\n",
    "\n",
    "```\n",
    "R data file: abdom in package gamlss.data of dimensions 610 × 2\n",
    "variables\n",
    "y : abdominal circumference\n",
    "x : gestational age\n",
    "purpose: to demonstrate the fitting of a simple regression type model in GAMLSS\n",
    "```"
   ]
  },
  {
   "cell_type": "markdown",
   "id": "61a2055d-f203-4088-8fe7-cad6b91271f6",
   "metadata": {},
   "source": [
    "Fit different response distributions and choose the ‘best’ model according to the GAIC criterion:\n",
    "1. Load the abdom data and print the variable names."
   ]
  },
  {
   "cell_type": "code",
   "execution_count": null,
   "id": "207a1157-f9b9-47af-b23c-263b5cc22934",
   "metadata": {
    "vscode": {
     "languageId": "r"
    }
   },
   "outputs": [],
   "source": [
    "data(abdom)\n",
    "colnames(abdom)\n",
    "summary(abdom)"
   ]
  },
  {
   "cell_type": "markdown",
   "id": "89d3f0ec-9910-44c1-b8ea-364e0decb621",
   "metadata": {},
   "source": [
    "2. Fit the normal distribution model, using pb() to fit P-spline smoothers for the predictors\n",
    "for μ and σ with automatic selection of smoothing parameters:"
   ]
  },
  {
   "cell_type": "code",
   "execution_count": null,
   "id": "9a003992-4c49-49f3-8afd-a934b6696e58",
   "metadata": {
    "vscode": {
     "languageId": "r"
    }
   },
   "outputs": [],
   "source": [
    "mNO <- gamlss(y ~ pb(x), sigma.fo = ~pb(x), data = abdom, family = NO)"
   ]
  },
  {
   "cell_type": "markdown",
   "id": "e0954d0a-9d1a-4f8e-bcb1-ec4f12e97aa7",
   "metadata": {},
   "source": [
    "3. Try fitting alternative distributions:\n",
    "(a) two-parameter distributions: GA, IG, GU, RG, LO,\n",
    "Apply pb() to all parameters of each distribution. Make sure to use different model names."
   ]
  },
  {
   "cell_type": "code",
   "execution_count": null,
   "id": "86761083-fbe6-44c5-b8f5-9870a8f77c2f",
   "metadata": {
    "vscode": {
     "languageId": "r"
    }
   },
   "outputs": [],
   "source": [
    "mGA <- gamlss(y~pb(x), sigma.fo=~pb(x), data=abdom, family=GA)\n",
    "mIG <- gamlss(y~pb(x), sigma.fo=~pb(x), data=abdom, family=IG)\n",
    "mGU <- gamlss(y~pb(x), sigma.fo=~pb(x), data=abdom, family=GU)\n",
    "mRG <- gamlss(y~pb(x), sigma.fo=~pb(x), data=abdom, family=RG)\n",
    "mLO <- gamlss(y~pb(x), sigma.fo=~pb(x), data=abdom, family=LO)"
   ]
  },
  {
   "cell_type": "code",
   "execution_count": null,
   "id": "98bb4039-f4b9-4bb4-8f1f-c690e28e8067",
   "metadata": {
    "vscode": {
     "languageId": "r"
    }
   },
   "outputs": [],
   "source": [
    "# Summary of the model\n",
    "summary(mGA)"
   ]
  },
  {
   "cell_type": "markdown",
   "id": "02ca13a4-c0a2-417d-8a1c-4e7446b7a6a0",
   "metadata": {},
   "source": [
    "(b) three-parameter distributions: PE, TF, BCCG,"
   ]
  },
  {
   "cell_type": "code",
   "execution_count": null,
   "id": "ea8112f0-d52b-408a-b6ba-f2db13c395b3",
   "metadata": {
    "vscode": {
     "languageId": "r"
    }
   },
   "outputs": [],
   "source": [
    "mPE <- gamlss(y~pb(x), sigma.fo=~pb(x), data=abdom, family=PE)\n",
    "mTF <- gamlss(y~pb(x), sigma.fo=~pb(x), data=abdom, family=TF)\n",
    "mBCCG <- gamlss(y~pb(x), sigma.fo=~pb(x), data=abdom, family=BCCG)"
   ]
  },
  {
   "cell_type": "markdown",
   "id": "f49c5f4a-ef8f-4d2e-8312-c89ae9b229fe",
   "metadata": {},
   "source": [
    "(c) four-parameter distributions: BCT, BCPE."
   ]
  },
  {
   "cell_type": "code",
   "execution_count": null,
   "id": "10d7d471-8803-4a13-99f7-eb3833aeba09",
   "metadata": {
    "vscode": {
     "languageId": "r"
    }
   },
   "outputs": [],
   "source": [
    "mBCT <- gamlss(y~pb(x), sigma.fo=~pb(x), data=abdom, family=BCT)\n",
    "mBCPE <- gamlss(y~pb(x), sigma.fo=~pb(x), data=abdom, family=BCPE)"
   ]
  },
  {
   "cell_type": "markdown",
   "id": "19d7d13d-94e1-40ed-aa2f-c30527ec0d44",
   "metadata": {},
   "source": [
    "4. Compare the fitted models using GAIC with each of the penalties k=2, k=3 and k=log(length(abdom$y)),"
   ]
  },
  {
   "cell_type": "code",
   "execution_count": null,
   "id": "dbc450fd-2eff-4fb9-a38c-4d1b6423405c",
   "metadata": {
    "vscode": {
     "languageId": "r"
    }
   },
   "outputs": [],
   "source": [
    "# eg\n",
    "GAIC(mNO,mGA,mIG,mGU,mRG,mLO,mPE,mTF,mBCCG,mBCT,mBCPE,k=2)"
   ]
  },
  {
   "cell_type": "markdown",
   "id": "646b7550-933f-4c76-9575-5ddd1d89d3f5",
   "metadata": {},
   "source": [
    "5. Check the residuals for your chosen model, say m, by plot(m) and wp(m)."
   ]
  },
  {
   "cell_type": "code",
   "execution_count": null,
   "id": "e90526a6-8953-4daf-95a2-b9d7b78ef3fc",
   "metadata": {
    "vscode": {
     "languageId": "r"
    }
   },
   "outputs": [],
   "source": [
    "plot(mGA) \n",
    "wp(mGA)"
   ]
  },
  {
   "cell_type": "markdown",
   "id": "bb5ca19c-c3e7-4555-bb18-14be05b68bda",
   "metadata": {},
   "source": [
    "6. For a chosen model, say m, look at the total effective degrees of freedom edfAll(m), plot the\n",
    "fitted parameters, fittedPlot(m,x=abdom,$x), and plot the data by plot(y∼x,data=abdom),\n",
    "and fitted μ against x, lines(fitted(m)∼x, data=abdom)."
   ]
  },
  {
   "cell_type": "code",
   "execution_count": null,
   "id": "aac7db82-c297-42dc-b43c-d1251d756f72",
   "metadata": {
    "vscode": {
     "languageId": "r"
    }
   },
   "outputs": [],
   "source": [
    "edfAll(mGA)\n",
    "fittedPlot(mGA,x=abdom$x)\n",
    "plot(y~x,data=abdom)\n",
    "lines(fitted(mGA)~x, data=abdom)"
   ]
  },
  {
   "cell_type": "markdown",
   "id": "fb3a25d9-b7f0-41e4-973b-62e2e2ba0b60",
   "metadata": {},
   "source": [
    "7. For a chosen model, examine the centile curves using centiles(m,abdom$x)."
   ]
  },
  {
   "cell_type": "markdown",
   "id": "ada81976-7652-40f5-af66-c19d0ba2a254",
   "metadata": {},
   "source": [
    "centiles(ga_model,abdom$x)"
   ]
  },
  {
   "cell_type": "markdown",
   "id": "ffad89f8-7f35-4740-b582-4019cda12846",
   "metadata": {},
   "source": [
    "## 4 The air quality data.\n",
    "The air quality data: The data set airquality is one of the data frames available in R within\n",
    "the standard package datasets. It has the daily air quality measurements in New York, from\n",
    "May to September 1973.\n",
    "```\n",
    "R data file: airquality in package datasets of dimensions 154 × 6\n",
    "variables\n",
    "Ozone : in ppb\n",
    "Solar.R : in lang\n",
    "Wind : in mph\n",
    "Temp : in F\n",
    "Month : Month (1–12)\n",
    "Day : Day of month (1–31)\n",
    "purpose: to demonstrate the need for smooth functions.\n",
    "```"
   ]
  },
  {
   "cell_type": "markdown",
   "id": "e481904f-56c2-403e-a23e-a69bc77fe906",
   "metadata": {},
   "source": [
    "(a) Here we will use Ozone as the response variable and Solar.R, Wind and Temp as explanatory\n",
    "variables. (We will not consider Month and Day.) The data can be plotted using:"
   ]
  },
  {
   "cell_type": "code",
   "execution_count": null,
   "id": "ef185c02-e6db-4a4a-bae8-c23f72a532ad",
   "metadata": {
    "vscode": {
     "languageId": "r"
    }
   },
   "outputs": [],
   "source": [
    "data(airquality)\n",
    "plot(airquality[,-c(5,6)])"
   ]
  },
  {
   "cell_type": "markdown",
   "id": "a8e73ac3-60b2-469a-98b7-6f545f192ce1",
   "metadata": {},
   "source": [
    "Comment on the plot.\n"
   ]
  },
  {
   "cell_type": "markdown",
   "id": "18cb9af0-3a57-4261-9701-b1877ff554be",
   "metadata": {},
   "source": [
    "(b) To fit a standard regression model (i.e. with a normal distribution and constant variance)\n",
    "use the function lm():"
   ]
  },
  {
   "cell_type": "code",
   "execution_count": null,
   "id": "ff49fd8e-1a66-4735-a668-9d79cb6c68d4",
   "metadata": {
    "vscode": {
     "languageId": "r"
    }
   },
   "outputs": [],
   "source": [
    "# Fit the standard linear model\n",
    "air.lm <- lm(Ozone~Temp+Wind+Solar.R,data=airquality)\n",
    "summary(air.lm)"
   ]
  },
  {
   "cell_type": "markdown",
   "id": "33f17536-abef-41c9-a21e-406824ad8f88",
   "metadata": {},
   "source": [
    "The summary() provides information about the coefficients and their standard errors. To\n",
    "plot the fitted model terms use termplot():"
   ]
  },
  {
   "cell_type": "code",
   "execution_count": null,
   "id": "e9c0fb15-43ce-4ac3-8736-b0a6c294cd74",
   "metadata": {
    "vscode": {
     "languageId": "r"
    }
   },
   "outputs": [],
   "source": [
    "op<-par(mfrow=c(1,3))\n",
    "termplot(air.lm,partial.resid=TRUE,se=T)\n",
    "par(op)"
   ]
  },
  {
   "cell_type": "markdown",
   "id": "ff7455a6-1bf3-4ff2-beb6-255f6fd66db3",
   "metadata": {},
   "source": [
    "Comment on the term plot."
   ]
  },
  {
   "cell_type": "markdown",
   "id": "dd0d77b5-115a-4b15-a9ef-4f360f6e62e2",
   "metadata": {},
   "source": [
    "(c) Check the residuals using plot():"
   ]
  },
  {
   "cell_type": "code",
   "execution_count": null,
   "id": "cf555734-7d89-4f91-91a2-93d6e36399c7",
   "metadata": {
    "vscode": {
     "languageId": "r"
    }
   },
   "outputs": [],
   "source": [
    "op<-par(mfrow=c(1,2))\n",
    "plot(air.lm,which=1:2)\n",
    "par(op)"
   ]
  },
  {
   "cell_type": "markdown",
   "id": "66afe873-00b1-4cfd-a928-901ee9be6169",
   "metadata": {},
   "source": [
    "(d) Fit the same model using the gamlss() function, but note that the data set airquality\n",
    "has some missing observations (i.e. NA values). The gamlss() function does not work with\n",
    "NA’s, so before fitting the model the cases with missing values have to be removed:"
   ]
  },
  {
   "cell_type": "code",
   "execution_count": null,
   "id": "e176a997-bf1c-4c35-9318-bcf733f7c575",
   "metadata": {
    "vscode": {
     "languageId": "r"
    }
   },
   "outputs": [],
   "source": [
    "library(gamlss)\n",
    "da <- na.omit(airquality) # clear the data of NA's\n",
    "mno<-gamlss(Ozone~Temp+Wind+Solar.R, data=da) # fit the model\n",
    "summary(mno)"
   ]
  },
  {
   "cell_type": "markdown",
   "id": "e25f4426-564d-425d-ad09-22678d0dc1a2",
   "metadata": {},
   "source": [
    "Summarize the fitted gamlss model using summary(). Plot the fitted terms using the corresponding\n",
    "function for gamlss called term.plot():"
   ]
  },
  {
   "cell_type": "code",
   "execution_count": null,
   "id": "7ac81418-dacb-45f9-b326-75647790a7b4",
   "metadata": {
    "vscode": {
     "languageId": "r"
    }
   },
   "outputs": [],
   "source": [
    "term.plot(mno, pages=1, partial=T) # plot the fitted terms"
   ]
  },
  {
   "cell_type": "markdown",
   "id": "8d381f07-063a-43a0-b9fb-f8e86f047aa0",
   "metadata": {},
   "source": [
    "(e) Check the residuals using the plot() and wp() functions:"
   ]
  },
  {
   "cell_type": "code",
   "execution_count": null,
   "id": "d07290a0-c4f3-47e6-addc-e47593a92ef6",
   "metadata": {
    "vscode": {
     "languageId": "r"
    }
   },
   "outputs": [],
   "source": [
    "plot(mno)\n",
    "wp(mno)"
   ]
  },
  {
   "cell_type": "markdown",
   "id": "44f2e54c-00b8-486f-b6b9-11c1bd47e921",
   "metadata": {},
   "source": [
    "Comment on the worm plot. Note the warning message that some points are missed out of\n",
    "the worm plot. Increase the limits in the vertical axis by using the argument ylim.all=2\n",
    "in wp()."
   ]
  },
  {
   "cell_type": "markdown",
   "id": "a2fd7163-59de-4a12-8f4a-676d46f86d79",
   "metadata": {},
   "source": [
    "(f) Since the fitted normal distribution seems not to be correct, try to fit different distributions\n",
    "(e.g. gamma (GA), inverse Gaussian (IG) and Box Cox Cole and Green (BCCGo)) to the data.\n",
    "Compare them with the normal distribution using GAIC with penalty k = 2 (i.e. AIC)."
   ]
  },
  {
   "cell_type": "code",
   "execution_count": null,
   "id": "452815fb-843f-483c-8575-2e22daaec48f",
   "metadata": {
    "vscode": {
     "languageId": "r"
    }
   },
   "outputs": [],
   "source": [
    "# fit different distributions\n",
    "mga <- gamlss(Ozone~Temp+Wind+Solar.R, data=da, family=GA)\n",
    "mig <- gamlss(Ozone~Temp+Wind+Solar.R, data=da, family=IG)\n",
    "mbccg <- gamlss(Ozone~Temp+Wind+Solar.R, data=da, family=BCCGo)\n",
    "GAIC(mno, mga, mig, mbccg)"
   ]
  },
  {
   "cell_type": "markdown",
   "id": "87afa31c-2ce4-4829-afae-6d50f3a55d1d",
   "metadata": {},
   "source": [
    "(g) For the selected distribution, fit smoothing terms, i.e pb(), for Solar.R, Wind and Temp."
   ]
  },
  {
   "cell_type": "code",
   "execution_count": null,
   "id": "c6f8837d-1123-4ef7-a2f1-bb416947907e",
   "metadata": {
    "vscode": {
     "languageId": "r"
    }
   },
   "outputs": [],
   "source": [
    "# fit smoothers\n",
    "mga1=gamlss(Ozone~pb(Temp)+pb(Wind)+pb(Solar.R),data=da,\n",
    "family=GA)\n",
    "term.plot(mga1, pages=1)\n",
    "plot(mga1)\n",
    "wp(mga1)"
   ]
  },
  {
   "cell_type": "markdown",
   "id": "640d3b40-1a61-433a-aa26-f63eab9f8575",
   "metadata": {},
   "source": [
    "Is the model improved according to the AIC? Use term.plot() output to see the fitted\n",
    "smooth functions for the predictor of μ for your chosen distribution. Use plot() and wp()\n",
    "output to check the residuals."
   ]
  }
 ],
 "metadata": {
  "kernelspec": {
   "display_name": "R",
   "language": "R",
   "name": "ir"
  },
  "language_info": {
   "codemirror_mode": "r",
   "file_extension": ".r",
   "mimetype": "text/x-r-source",
   "name": "R",
   "pygments_lexer": "r",
   "version": "4.3.2"
  }
 },
 "nbformat": 4,
 "nbformat_minor": 5
}
