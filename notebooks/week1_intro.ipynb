{
 "cells": [
  {
   "cell_type": "markdown",
   "id": "31c6d220-078e-46d9-84d1-843147fa856c",
   "metadata": {},
   "source": []
  },
  {
   "cell_type": "code",
   "execution_count": null,
   "id": "91318c78-9ebe-4bcd-a196-38bda1086a7e",
   "metadata": {
    "vscode": {
     "languageId": "r"
    }
   },
   "outputs": [],
   "source": [
    "library(ggplot2)\n",
    "library(gamlss)\n",
    "library(gamlss.data)\n",
    "library(ggplot2)\n",
    "library(dplyr)\n",
    "## Loading required package: splines\n",
    "## Loading required package: gamlss.data\n",
    "##\n",
    "## Attaching package: ’gamlss.data’\n",
    "## The following object is masked from ’package:datasets’:\n",
    "##\n",
    "##     sleep\n",
    "## Loading required package: gamlss.dist\n",
    "## Loading required package: MASS\n",
    "## Loading required package: nlme\n",
    "## Loading required package: parallel\n",
    "##  **********   GAMLSS Version 5.4-12  **********\n",
    "## For more on GAMLSS look at https://www.gamlss.com/\n",
    "## Type gamlssNews() to see new features/changes/bug fixes.\n",
    "library(nnet)\n",
    "library(data.table)"
   ]
  },
  {
   "cell_type": "markdown",
   "id": "277477dc",
   "metadata": {},
   "source": [
    "# DB BMI"
   ]
  },
  {
   "cell_type": "code",
   "execution_count": null,
   "id": "632fe4d3",
   "metadata": {
    "vscode": {
     "languageId": "r"
    }
   },
   "outputs": [],
   "source": [
    "rm(list=ls())\n",
    "data(dbbmi)\n",
    "options(jupyter.plot_mimetypes = 'image/png')"
   ]
  },
  {
   "cell_type": "code",
   "execution_count": null,
   "id": "32963a27",
   "metadata": {
    "vscode": {
     "languageId": "r"
    }
   },
   "outputs": [],
   "source": [
    "plot(bmi~age, data=dbbmi)"
   ]
  },
  {
   "cell_type": "code",
   "execution_count": null,
   "id": "caa93171",
   "metadata": {
    "vscode": {
     "languageId": "r"
    }
   },
   "outputs": [],
   "source": [
    "# Bucket ages for facet_wrap\n",
    "agebreaks <- c(0,1,2,3,4,5,6,7,8,9,10,11,12,13,14,15,16,17,18,19,20,21,22,23,24,25)\n",
    "agelabels <- c(\"0-1\",\"1-2\",\"2-3\",\"3-4\",\"4-5\",\"5-6\",\"6-7\",\"7-8\",\"8-9\",\"9-10\",\n",
    "               \"10-11\",\"11-12\",\"12-13\",\"13-14\",\"14-15\",\"15-16\",\"16-17\",\"17-18\",\"18-19\",\"19-20\",\n",
    "               \"20-21\",\"21-22\",\"22-23\",\"23-24\",\"24+\")\n",
    "print(length(agebreaks))\n",
    "print(length(agelabels))\n",
    "setDT(dbbmi)[ , agegroups := cut(age, \n",
    "                                breaks = agebreaks, \n",
    "                                right = FALSE, \n",
    "                                labels = agelabels)]\n",
    "summary(dbbmi)"
   ]
  },
  {
   "cell_type": "code",
   "execution_count": null,
   "id": "6d4bbb89-212d-47e9-b171-49b30a4b9484",
   "metadata": {
    "vscode": {
     "languageId": "r"
    }
   },
   "outputs": [],
   "source": [
    "#\n",
    "p <- ggplot(dbbmi, aes(x = bmi)) + \n",
    "    geom_histogram(binwidth = 1, fill = \"blue\", color = \"black\") + \n",
    "    facet_wrap(~ agegroups, scales = \"free_y\") + \n",
    "    theme_minimal() +\n",
    "    labs(title = \"BMI Distribution by Age\", x = \"BMI\", y = \"Frequency\") \n",
    "# Display the plot\n",
    "print(p)"
   ]
  },
  {
   "cell_type": "code",
   "execution_count": null,
   "id": "2d617908-1f97-452d-9b68-820a0bc0b0dd",
   "metadata": {
    "vscode": {
     "languageId": "r"
    }
   },
   "outputs": [],
   "source": [
    "#\n",
    "pdf(\"week1_plot.pdf\")\n",
    "ggplot(dbbmi, aes(x = bmi)) + \n",
    "    geom_histogram(binwidth = 1, fill = \"blue\", color = \"black\") + \n",
    "    facet_wrap(~ agegroups, scales = \"free_y\") + \n",
    "    theme_minimal() +\n",
    "    labs(title = \"BMI Distribution by Age\", x = \"BMI\", y = \"Frequency\") \n",
    "dev.off()\n"
   ]
  }
 ],
 "metadata": {
  "kernelspec": {
   "display_name": "R 4.2.3",
   "language": "R",
   "name": "ir"
  },
  "language_info": {
   "codemirror_mode": "r",
   "file_extension": ".r",
   "mimetype": "text/x-r-source",
   "name": "R",
   "pygments_lexer": "r",
   "version": "4.2.3"
  }
 },
 "nbformat": 4,
 "nbformat_minor": 5
}
