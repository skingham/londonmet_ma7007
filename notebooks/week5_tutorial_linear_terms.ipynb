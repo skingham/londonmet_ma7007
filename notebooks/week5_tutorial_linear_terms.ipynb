{
 "cells": [
  {
   "cell_type": "markdown",
   "id": "0bd22124-05fe-4a69-a077-37ab3b7b9b20",
   "metadata": {},
   "source": [
    "# Tutorial Week 5 \n",
    "\n",
    "This script is a robust example of using R for statistical analysis, emphasizing model fitting, selection, and visualization in biomedical data analysis. It demonstrates how to approach data with complex nonlinear relationships using various statistical modeling techniques to identify the best explanatory model.\n",
    "\n",
    "This R script is a comprehensive example of data manipulation, statistical modeling, and visualization in the context of analyzing CD4 cell counts across different ages, using the `gamlss` package in R. Here's a detailed breakdown of its components:\n",
    "\n",
    "1. **Clear Workspace and Load Libraries**: The script starts by clearing the R environment to ensure a fresh workspace and then loads the `gamlss` library, which is essential for fitting generalized additive models for location, scale, and shape.\n"
   ]
  },
  {
   "cell_type": "code",
   "execution_count": null,
   "id": "fba7362f-ce00-492c-b0c5-4ecf106d2a9e",
   "metadata": {
    "vscode": {
     "languageId": "r"
    }
   },
   "outputs": [],
   "source": [
    "rm(list=ls())\n",
    "ls();\n",
    "library(gamlss);"
   ]
  },
  {
   "cell_type": "markdown",
   "id": "a46a7baf-ba10-4c53-9745-e79ab4318d52",
   "metadata": {},
   "source": [
    "2. **Data Exploration**:\n",
    "   - The script initially interacts with an `aids` dataset for some basic manipulations, but the main focus is on the `CD4` dataset. It displays the first few entries of the `CD4` data to understand its structure."
   ]
  },
  {
   "cell_type": "code",
   "execution_count": null,
   "id": "8eaa00f5-6d31-431f-9276-2c4f9d3d66c2",
   "metadata": {
    "vscode": {
     "languageId": "r"
    }
   },
   "outputs": [],
   "source": [
    "data(aids)\n",
    "head(with(aids,model.matrix(~x+qrt)))\n",
    "\n",
    "f1<-gl(2,1,24)\n",
    "levels(f1) <- c(\"A\", \"B\") \n",
    "f1\n",
    "f2<-gl(3,2,24)\n",
    "f2\n",
    "head(model.matrix(~f1*f2), 10)\n",
    "\n",
    "data(aids)\n",
    "head(with(aids,model.matrix(formula(~x*qrt))), 10)\n",
    "#######################################################\n",
    "data(CD4)\n",
    "head(CD4)"
   ]
  },
  {
   "cell_type": "markdown",
   "id": "f05e416a-e3f4-4560-b2f7-fac18cf01157",
   "metadata": {},
   "source": [
    "3. **Data Visualization**:\n",
    "   - It uses the `ggplot2` library to create a scatter plot (`pp`) of CD4 cell counts (`cd4`) against age (`age`)."
   ]
  },
  {
   "cell_type": "code",
   "execution_count": null,
   "id": "b4a8c0b3-3023-47b7-9bfb-c8c60d6d38b7",
   "metadata": {
    "vscode": {
     "languageId": "r"
    }
   },
   "outputs": [],
   "source": [
    "library(ggplot2)\n",
    "\n",
    "pp<-ggplot(data=CD4, aes(x=age, y=cd4))+geom_point()\n",
    "pp"
   ]
  },
  {
   "cell_type": "markdown",
   "id": "ba7557ea-1ddf-4de9-9b89-18b25774cdcc",
   "metadata": {},
   "source": [
    "4. **Model Fitting**:\n",
    "   - Various models are fitted to the data to understand the relationship between age and CD4 cell counts. These models include polynomial terms of age (up to the third degree initially), polynomial models with varying degrees, and models using different basis functions for age:\n",
    "     - Simple polynomial terms (`age`, `age^2`, `age^3`).\n",
    "     - Orthogonal polynomials (`poly(age, degree)`).\n",
    "     - Flexible polynomials using penalization (`fp(age, degree)`).\n",
    "     - B-splines (`bs(age, df=degree)`).\n",
    "     - Penalized B-splines (`pb(age)`).\n",
    "     - Fractional polynomials (`fk(age, degree)`)."
   ]
  },
  {
   "cell_type": "code",
   "execution_count": null,
   "id": "85985c5d-cc6a-4a83-bac9-399eebd7230d",
   "metadata": {
    "vscode": {
     "languageId": "r"
    }
   },
   "outputs": [],
   "source": [
    "#  Simple polynomial terms (`age`, `age^2`, `age^3`).\n",
    "m0 <- gamlss(cd4~age+I(age^2)+I(age^3), data=CD4)\n",
    "\n",
    "pp1<- pp+geom_line(aes(x=age, y=fitted(m0)))\n",
    "\n",
    "pp1"
   ]
  },
  {
   "cell_type": "code",
   "execution_count": null,
   "id": "717c80d9-28f2-4df1-9853-662ba8484457",
   "metadata": {
    "vscode": {
     "languageId": "r"
    }
   },
   "outputs": [],
   "source": [
    "# Orthogonal polynomials (`poly(age, degree)`).\n",
    "m1 <- gamlss(cd4~poly(age,3), data=CD4)\n",
    "\n",
    "pp+geom_line(aes(x=age, y=fitted(m1), col=\"red\"))"
   ]
  },
  {
   "cell_type": "markdown",
   "id": "81c3c751-887e-4e2a-847f-0a99f612d5d3",
   "metadata": {},
   "source": [
    "5. **Model Comparison**:\n",
    "   - The script compares these models using the Akaike Information Criterion (AIC) to select the best-fitting model based on the trade-off between model complexity and goodness of fit."
   ]
  },
  {
   "cell_type": "code",
   "execution_count": null,
   "id": "ef3a1684-d25e-46a4-9d4a-511f679eed04",
   "metadata": {
    "vscode": {
     "languageId": "r"
    }
   },
   "outputs": [],
   "source": [
    "# Orthogonal polynomials (`poly(age, degree)`).\n",
    "l1 <- gamlss(cd4~poly(age,1), data=CD4)\n",
    "l2 <- gamlss(cd4~poly(age,2), data=CD4)\n",
    "l3 <- gamlss(cd4~poly(age,3), data=CD4)\n",
    "l4 <- gamlss(cd4~poly(age,4), data=CD4)\n",
    "l5 <- gamlss(cd4~poly(age,5), data=CD4)\n",
    "l6 <- gamlss(cd4~poly(age,6), data=CD4)\n",
    "l7 <- gamlss(cd4~poly(age,7), data=CD4)\n",
    "l8 <- gamlss(cd4~poly(age,8), data=CD4)\n",
    "l9 <- gamlss(cd4~poly(age,9), data=CD4)\n",
    "\n",
    "AIC(l1, l2, l3,l4, l5,l6,l7,l8,l9)\n",
    "AIC(l1, l2, l3,l4, l5,l6,l7,l8,l9, k=log(dim(CD4)[1]))"
   ]
  },
  {
   "cell_type": "markdown",
   "id": "27b2a993-d626-4d2a-9385-7100dfa5e844",
   "metadata": {},
   "source": [
    "6. **Visualization of Model Fits**:\n",
    "   - It then overlays the fitted models on the scatter plot created earlier to visually compare how well each model fits the data. This is done through lines representing the fitted values from each model against age, with different models possibly colored differently for distinction."
   ]
  },
  {
   "cell_type": "code",
   "execution_count": null,
   "id": "6bbf8ae7-09d0-4b54-867b-25596092be8a",
   "metadata": {
    "vscode": {
     "languageId": "r"
    }
   },
   "outputs": [],
   "source": [
    "pp+geom_line(aes(x=age, y=fitted(l7)), col=\"blue\")"
   ]
  },
  {
   "cell_type": "code",
   "execution_count": null,
   "id": "aef44cd7-e0fa-46a8-94f7-b4329149cff1",
   "metadata": {
    "vscode": {
     "languageId": "r"
    }
   },
   "outputs": [],
   "source": [
    "# Flexible polynomials using penalization (`fp(age, degree)`).\n",
    "fp_1<- gamlss(cd4~fp(age,1), data=CD4)\n",
    "fp_2<- gamlss(cd4~fp(age,2), data=CD4)\n",
    "fp_3<- gamlss(cd4~fp(age,3), data=CD4)\n",
    "AIC(fp_1, fp_2, fp_3)\n",
    "\n",
    "pp+geom_line(aes(x=age, y=fitted(fp_3)), col=\"blue\")"
   ]
  },
  {
   "cell_type": "code",
   "execution_count": null,
   "id": "31772363-8378-4813-81b5-1d8fa49396dc",
   "metadata": {
    "vscode": {
     "languageId": "r"
    }
   },
   "outputs": [],
   "source": [
    "library(gamlss.add)\n",
    "# Fractional polynomials (`fk(age, degree)`).\n",
    "fk_1<- gamlss(cd4~fk(age,1), data=CD4)\n",
    "pp+geom_line(aes(x=age, y=fitted(fk_1)), col=\"blue\")"
   ]
  },
  {
   "cell_type": "code",
   "execution_count": null,
   "id": "f801f392-c2b5-41fc-a977-fd44e195c9cc",
   "metadata": {
    "vscode": {
     "languageId": "r"
    }
   },
   "outputs": [],
   "source": [
    "# B-splines (`bs(age, df=degree)`).\n",
    "b3 <- gamlss(cd4~bs(age,df=3), data=CD4)\n",
    "b4 <- gamlss(cd4~bs(age,df=4), data=CD4)\n",
    "b5 <- gamlss(cd4~bs(age,df=5), data=CD4)\n",
    "b6 <- gamlss(cd4~bs(age,df=6), data=CD4)\n",
    "b7 <- gamlss(cd4~bs(age,df=7), data=CD4)\n",
    "b8 <- gamlss(cd4~bs(age,df=8), data=CD4)\n",
    "b9 <- gamlss(cd4~bs(age,df=9), data=CD4)\n",
    "AIC(b3,b4,b5,b6,b7,b8,b9)\n",
    "\n",
    "pp+geom_line(aes(x=age, y=fitted(b7)), col=\"blue\")"
   ]
  },
  {
   "cell_type": "code",
   "execution_count": null,
   "id": "425c88bd-fc5c-4741-bc9c-c8973b668cc0",
   "metadata": {
    "vscode": {
     "languageId": "r"
    }
   },
   "outputs": [],
   "source": [
    "# Penalized B-splines (`pb(age)`).\n",
    "c1 <- gamlss(cd4~pb(age), data=CD4)\n",
    "pp+geom_line(aes(x=age, y=fitted(c1)), col=\"blue\")"
   ]
  },
  {
   "cell_type": "code",
   "execution_count": null,
   "id": "df9cac4c-355c-44a1-a7ce-a0ef52a8e4e5",
   "metadata": {
    "vscode": {
     "languageId": "r"
    }
   },
   "outputs": [],
   "source": [
    "# fk_1: Fractional polynomials (`fk(age, degree=1)`).\n",
    "# c1: Penalized B-splines (`pb(age)`).\n",
    "pp+\n",
    "    geom_line(aes(x=age, y=fitted(fk_1)), col=\"blue\")+\n",
    "    geom_line(aes(x=age, y=fitted(c1)), col=\"red\")"
   ]
  },
  {
   "cell_type": "markdown",
   "id": "33edfbce-773a-4183-8708-5ae0a38ca4a4",
   "metadata": {},
   "source": [
    "7. **Advanced Modeling Techniques**:\n",
    "   - The script explores advanced modeling techniques, such as using fractional polynomials and B-splines to capture the relationship between age and CD4 counts more flexibly and accurately.\n",
    "\n",
    "This script is a robust example of using R for statistical analysis, emphasizing model fitting, selection, and visualization in biomedical data analysis. It demonstrates how to approach data with complex nonlinear relationships using various statistical modeling techniques to identify the best explanatory model."
   ]
  }
 ],
 "metadata": {
  "kernelspec": {
   "display_name": "R",
   "language": "R",
   "name": "ir"
  },
  "language_info": {
   "codemirror_mode": "r",
   "file_extension": ".r",
   "mimetype": "text/x-r-source",
   "name": "R",
   "pygments_lexer": "r",
   "version": "4.3.2"
  }
 },
 "nbformat": 4,
 "nbformat_minor": 5
}
